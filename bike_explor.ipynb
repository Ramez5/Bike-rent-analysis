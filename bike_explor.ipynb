{
 "cells": [
  {
   "cell_type": "code",
   "execution_count": 1,
   "id": "183b35ba",
   "metadata": {
    "id": "183b35ba",
    "slideshow": {
     "slide_type": "skip"
    }
   },
   "outputs": [],
   "source": [
    "import numpy as np\n",
    "import pandas as pd \n",
    "import matplotlib.pyplot as plt\n",
    "import seaborn as sb\n",
    "\n",
    "%matplotlib inline"
   ]
  },
  {
   "cell_type": "markdown",
   "id": "3b94f1ec",
   "metadata": {
    "slideshow": {
     "slide_type": "slide"
    }
   },
   "source": [
    "This Project will cover the following sections over this notebook :\n",
    "\n",
    "- [Data Wrangling](#Wrangling)\n",
    "- [Data Cleaning](#cleaning)\n",
    "- [Explaratory data analysis and univariate vasuliazation](#explaratory)\n",
    "- [Bivariate Visualization](#Bivariate)\n",
    "- [Multivariate Vasualization](#Mutltivariate)"
   ]
  },
  {
   "cell_type": "markdown",
   "id": "546ee3a4",
   "metadata": {
    "slideshow": {
     "slide_type": "slide"
    }
   },
   "source": [
    "<a id='Wrangling'></a>\n",
    "\n",
    "# Data Wrangling"
   ]
  },
  {
   "cell_type": "code",
   "execution_count": 2,
   "id": "da21da38",
   "metadata": {
    "colab": {
     "base_uri": "https://localhost:8080/",
     "height": 392
    },
    "id": "da21da38",
    "outputId": "d7133034-f362-4fba-d06c-23a2637d0b4a",
    "slideshow": {
     "slide_type": "skip"
    }
   },
   "outputs": [
    {
     "data": {
      "text/html": [
       "<div>\n",
       "<style scoped>\n",
       "    .dataframe tbody tr th:only-of-type {\n",
       "        vertical-align: middle;\n",
       "    }\n",
       "\n",
       "    .dataframe tbody tr th {\n",
       "        vertical-align: top;\n",
       "    }\n",
       "\n",
       "    .dataframe thead th {\n",
       "        text-align: right;\n",
       "    }\n",
       "</style>\n",
       "<table border=\"1\" class=\"dataframe\">\n",
       "  <thead>\n",
       "    <tr style=\"text-align: right;\">\n",
       "      <th></th>\n",
       "      <th>duration_sec</th>\n",
       "      <th>start_time</th>\n",
       "      <th>end_time</th>\n",
       "      <th>start_station_id</th>\n",
       "      <th>start_station_name</th>\n",
       "      <th>start_station_latitude</th>\n",
       "      <th>start_station_longitude</th>\n",
       "      <th>end_station_id</th>\n",
       "      <th>end_station_name</th>\n",
       "      <th>end_station_latitude</th>\n",
       "      <th>end_station_longitude</th>\n",
       "      <th>bike_id</th>\n",
       "      <th>user_type</th>\n",
       "      <th>member_birth_year</th>\n",
       "      <th>member_gender</th>\n",
       "      <th>bike_share_for_all_trip</th>\n",
       "    </tr>\n",
       "  </thead>\n",
       "  <tbody>\n",
       "    <tr>\n",
       "      <th>0</th>\n",
       "      <td>52185</td>\n",
       "      <td>2019-02-28 17:32:10.1450</td>\n",
       "      <td>2019-03-01 08:01:55.9750</td>\n",
       "      <td>21.0</td>\n",
       "      <td>Montgomery St BART Station (Market St at 2nd St)</td>\n",
       "      <td>37.789625</td>\n",
       "      <td>-122.400811</td>\n",
       "      <td>13.0</td>\n",
       "      <td>Commercial St at Montgomery St</td>\n",
       "      <td>37.794231</td>\n",
       "      <td>-122.402923</td>\n",
       "      <td>4902</td>\n",
       "      <td>Customer</td>\n",
       "      <td>1984.0</td>\n",
       "      <td>Male</td>\n",
       "      <td>No</td>\n",
       "    </tr>\n",
       "    <tr>\n",
       "      <th>1</th>\n",
       "      <td>42521</td>\n",
       "      <td>2019-02-28 18:53:21.7890</td>\n",
       "      <td>2019-03-01 06:42:03.0560</td>\n",
       "      <td>23.0</td>\n",
       "      <td>The Embarcadero at Steuart St</td>\n",
       "      <td>37.791464</td>\n",
       "      <td>-122.391034</td>\n",
       "      <td>81.0</td>\n",
       "      <td>Berry St at 4th St</td>\n",
       "      <td>37.775880</td>\n",
       "      <td>-122.393170</td>\n",
       "      <td>2535</td>\n",
       "      <td>Customer</td>\n",
       "      <td>NaN</td>\n",
       "      <td>NaN</td>\n",
       "      <td>No</td>\n",
       "    </tr>\n",
       "    <tr>\n",
       "      <th>2</th>\n",
       "      <td>61854</td>\n",
       "      <td>2019-02-28 12:13:13.2180</td>\n",
       "      <td>2019-03-01 05:24:08.1460</td>\n",
       "      <td>86.0</td>\n",
       "      <td>Market St at Dolores St</td>\n",
       "      <td>37.769305</td>\n",
       "      <td>-122.426826</td>\n",
       "      <td>3.0</td>\n",
       "      <td>Powell St BART Station (Market St at 4th St)</td>\n",
       "      <td>37.786375</td>\n",
       "      <td>-122.404904</td>\n",
       "      <td>5905</td>\n",
       "      <td>Customer</td>\n",
       "      <td>1972.0</td>\n",
       "      <td>Male</td>\n",
       "      <td>No</td>\n",
       "    </tr>\n",
       "    <tr>\n",
       "      <th>3</th>\n",
       "      <td>36490</td>\n",
       "      <td>2019-02-28 17:54:26.0100</td>\n",
       "      <td>2019-03-01 04:02:36.8420</td>\n",
       "      <td>375.0</td>\n",
       "      <td>Grove St at Masonic Ave</td>\n",
       "      <td>37.774836</td>\n",
       "      <td>-122.446546</td>\n",
       "      <td>70.0</td>\n",
       "      <td>Central Ave at Fell St</td>\n",
       "      <td>37.773311</td>\n",
       "      <td>-122.444293</td>\n",
       "      <td>6638</td>\n",
       "      <td>Subscriber</td>\n",
       "      <td>1989.0</td>\n",
       "      <td>Other</td>\n",
       "      <td>No</td>\n",
       "    </tr>\n",
       "    <tr>\n",
       "      <th>4</th>\n",
       "      <td>1585</td>\n",
       "      <td>2019-02-28 23:54:18.5490</td>\n",
       "      <td>2019-03-01 00:20:44.0740</td>\n",
       "      <td>7.0</td>\n",
       "      <td>Frank H Ogawa Plaza</td>\n",
       "      <td>37.804562</td>\n",
       "      <td>-122.271738</td>\n",
       "      <td>222.0</td>\n",
       "      <td>10th Ave at E 15th St</td>\n",
       "      <td>37.792714</td>\n",
       "      <td>-122.248780</td>\n",
       "      <td>4898</td>\n",
       "      <td>Subscriber</td>\n",
       "      <td>1974.0</td>\n",
       "      <td>Male</td>\n",
       "      <td>Yes</td>\n",
       "    </tr>\n",
       "  </tbody>\n",
       "</table>\n",
       "</div>"
      ],
      "text/plain": [
       "   duration_sec                start_time                  end_time  \\\n",
       "0         52185  2019-02-28 17:32:10.1450  2019-03-01 08:01:55.9750   \n",
       "1         42521  2019-02-28 18:53:21.7890  2019-03-01 06:42:03.0560   \n",
       "2         61854  2019-02-28 12:13:13.2180  2019-03-01 05:24:08.1460   \n",
       "3         36490  2019-02-28 17:54:26.0100  2019-03-01 04:02:36.8420   \n",
       "4          1585  2019-02-28 23:54:18.5490  2019-03-01 00:20:44.0740   \n",
       "\n",
       "   start_station_id                                start_station_name  \\\n",
       "0              21.0  Montgomery St BART Station (Market St at 2nd St)   \n",
       "1              23.0                     The Embarcadero at Steuart St   \n",
       "2              86.0                           Market St at Dolores St   \n",
       "3             375.0                           Grove St at Masonic Ave   \n",
       "4               7.0                               Frank H Ogawa Plaza   \n",
       "\n",
       "   start_station_latitude  start_station_longitude  end_station_id  \\\n",
       "0               37.789625              -122.400811            13.0   \n",
       "1               37.791464              -122.391034            81.0   \n",
       "2               37.769305              -122.426826             3.0   \n",
       "3               37.774836              -122.446546            70.0   \n",
       "4               37.804562              -122.271738           222.0   \n",
       "\n",
       "                               end_station_name  end_station_latitude  \\\n",
       "0                Commercial St at Montgomery St             37.794231   \n",
       "1                            Berry St at 4th St             37.775880   \n",
       "2  Powell St BART Station (Market St at 4th St)             37.786375   \n",
       "3                        Central Ave at Fell St             37.773311   \n",
       "4                         10th Ave at E 15th St             37.792714   \n",
       "\n",
       "   end_station_longitude  bike_id   user_type  member_birth_year  \\\n",
       "0            -122.402923     4902    Customer             1984.0   \n",
       "1            -122.393170     2535    Customer                NaN   \n",
       "2            -122.404904     5905    Customer             1972.0   \n",
       "3            -122.444293     6638  Subscriber             1989.0   \n",
       "4            -122.248780     4898  Subscriber             1974.0   \n",
       "\n",
       "  member_gender bike_share_for_all_trip  \n",
       "0          Male                      No  \n",
       "1           NaN                      No  \n",
       "2          Male                      No  \n",
       "3         Other                      No  \n",
       "4          Male                     Yes  "
      ]
     },
     "execution_count": 2,
     "metadata": {},
     "output_type": "execute_result"
    }
   ],
   "source": [
    "#importing database and explore its columns and rows\n",
    "df = pd.read_csv(\"201902-fordgobike-tripdata.csv\")\n",
    "df.head()"
   ]
  },
  {
   "cell_type": "code",
   "execution_count": 3,
   "id": "8884f8c9",
   "metadata": {
    "colab": {
     "base_uri": "https://localhost:8080/"
    },
    "id": "8884f8c9",
    "outputId": "cea75c60-7af3-490c-ae7e-a704e0254ae0",
    "slideshow": {
     "slide_type": "skip"
    }
   },
   "outputs": [
    {
     "name": "stdout",
     "output_type": "stream",
     "text": [
      "<class 'pandas.core.frame.DataFrame'>\n",
      "RangeIndex: 183412 entries, 0 to 183411\n",
      "Data columns (total 16 columns):\n",
      " #   Column                   Non-Null Count   Dtype  \n",
      "---  ------                   --------------   -----  \n",
      " 0   duration_sec             183412 non-null  int64  \n",
      " 1   start_time               183412 non-null  object \n",
      " 2   end_time                 183412 non-null  object \n",
      " 3   start_station_id         183215 non-null  float64\n",
      " 4   start_station_name       183215 non-null  object \n",
      " 5   start_station_latitude   183412 non-null  float64\n",
      " 6   start_station_longitude  183412 non-null  float64\n",
      " 7   end_station_id           183215 non-null  float64\n",
      " 8   end_station_name         183215 non-null  object \n",
      " 9   end_station_latitude     183412 non-null  float64\n",
      " 10  end_station_longitude    183412 non-null  float64\n",
      " 11  bike_id                  183412 non-null  int64  \n",
      " 12  user_type                183412 non-null  object \n",
      " 13  member_birth_year        175147 non-null  float64\n",
      " 14  member_gender            175147 non-null  object \n",
      " 15  bike_share_for_all_trip  183412 non-null  object \n",
      "dtypes: float64(7), int64(2), object(7)\n",
      "memory usage: 22.4+ MB\n"
     ]
    }
   ],
   "source": [
    "# exploring type of data in each column and null values\n",
    "df.info()"
   ]
  },
  {
   "cell_type": "code",
   "execution_count": 4,
   "id": "94f95805",
   "metadata": {
    "colab": {
     "base_uri": "https://localhost:8080/",
     "height": 486
    },
    "id": "e0baabb1",
    "outputId": "c97957b4-95b1-4298-b057-b4b22e64fabb",
    "slideshow": {
     "slide_type": "skip"
    }
   },
   "outputs": [
    {
     "data": {
      "text/html": [
       "<div>\n",
       "<style scoped>\n",
       "    .dataframe tbody tr th:only-of-type {\n",
       "        vertical-align: middle;\n",
       "    }\n",
       "\n",
       "    .dataframe tbody tr th {\n",
       "        vertical-align: top;\n",
       "    }\n",
       "\n",
       "    .dataframe thead th {\n",
       "        text-align: right;\n",
       "    }\n",
       "</style>\n",
       "<table border=\"1\" class=\"dataframe\">\n",
       "  <thead>\n",
       "    <tr style=\"text-align: right;\">\n",
       "      <th></th>\n",
       "      <th>duration_sec</th>\n",
       "      <th>start_station_id</th>\n",
       "      <th>start_station_latitude</th>\n",
       "      <th>start_station_longitude</th>\n",
       "      <th>end_station_id</th>\n",
       "      <th>end_station_latitude</th>\n",
       "      <th>end_station_longitude</th>\n",
       "      <th>bike_id</th>\n",
       "      <th>member_birth_year</th>\n",
       "    </tr>\n",
       "  </thead>\n",
       "  <tbody>\n",
       "    <tr>\n",
       "      <th>count</th>\n",
       "      <td>183412.000000</td>\n",
       "      <td>183215.000000</td>\n",
       "      <td>183412.000000</td>\n",
       "      <td>183412.000000</td>\n",
       "      <td>183215.000000</td>\n",
       "      <td>183412.000000</td>\n",
       "      <td>183412.000000</td>\n",
       "      <td>183412.000000</td>\n",
       "      <td>175147.000000</td>\n",
       "    </tr>\n",
       "    <tr>\n",
       "      <th>mean</th>\n",
       "      <td>726.078435</td>\n",
       "      <td>138.590427</td>\n",
       "      <td>37.771223</td>\n",
       "      <td>-122.352664</td>\n",
       "      <td>136.249123</td>\n",
       "      <td>37.771427</td>\n",
       "      <td>-122.352250</td>\n",
       "      <td>4472.906375</td>\n",
       "      <td>1984.806437</td>\n",
       "    </tr>\n",
       "    <tr>\n",
       "      <th>std</th>\n",
       "      <td>1794.389780</td>\n",
       "      <td>111.778864</td>\n",
       "      <td>0.099581</td>\n",
       "      <td>0.117097</td>\n",
       "      <td>111.515131</td>\n",
       "      <td>0.099490</td>\n",
       "      <td>0.116673</td>\n",
       "      <td>1664.383394</td>\n",
       "      <td>10.116689</td>\n",
       "    </tr>\n",
       "    <tr>\n",
       "      <th>min</th>\n",
       "      <td>61.000000</td>\n",
       "      <td>3.000000</td>\n",
       "      <td>37.317298</td>\n",
       "      <td>-122.453704</td>\n",
       "      <td>3.000000</td>\n",
       "      <td>37.317298</td>\n",
       "      <td>-122.453704</td>\n",
       "      <td>11.000000</td>\n",
       "      <td>1878.000000</td>\n",
       "    </tr>\n",
       "    <tr>\n",
       "      <th>25%</th>\n",
       "      <td>325.000000</td>\n",
       "      <td>47.000000</td>\n",
       "      <td>37.770083</td>\n",
       "      <td>-122.412408</td>\n",
       "      <td>44.000000</td>\n",
       "      <td>37.770407</td>\n",
       "      <td>-122.411726</td>\n",
       "      <td>3777.000000</td>\n",
       "      <td>1980.000000</td>\n",
       "    </tr>\n",
       "    <tr>\n",
       "      <th>50%</th>\n",
       "      <td>514.000000</td>\n",
       "      <td>104.000000</td>\n",
       "      <td>37.780760</td>\n",
       "      <td>-122.398285</td>\n",
       "      <td>100.000000</td>\n",
       "      <td>37.781010</td>\n",
       "      <td>-122.398279</td>\n",
       "      <td>4958.000000</td>\n",
       "      <td>1987.000000</td>\n",
       "    </tr>\n",
       "    <tr>\n",
       "      <th>75%</th>\n",
       "      <td>796.000000</td>\n",
       "      <td>239.000000</td>\n",
       "      <td>37.797280</td>\n",
       "      <td>-122.286533</td>\n",
       "      <td>235.000000</td>\n",
       "      <td>37.797320</td>\n",
       "      <td>-122.288045</td>\n",
       "      <td>5502.000000</td>\n",
       "      <td>1992.000000</td>\n",
       "    </tr>\n",
       "    <tr>\n",
       "      <th>max</th>\n",
       "      <td>85444.000000</td>\n",
       "      <td>398.000000</td>\n",
       "      <td>37.880222</td>\n",
       "      <td>-121.874119</td>\n",
       "      <td>398.000000</td>\n",
       "      <td>37.880222</td>\n",
       "      <td>-121.874119</td>\n",
       "      <td>6645.000000</td>\n",
       "      <td>2001.000000</td>\n",
       "    </tr>\n",
       "  </tbody>\n",
       "</table>\n",
       "</div>"
      ],
      "text/plain": [
       "        duration_sec  start_station_id  start_station_latitude  \\\n",
       "count  183412.000000     183215.000000           183412.000000   \n",
       "mean      726.078435        138.590427               37.771223   \n",
       "std      1794.389780        111.778864                0.099581   \n",
       "min        61.000000          3.000000               37.317298   \n",
       "25%       325.000000         47.000000               37.770083   \n",
       "50%       514.000000        104.000000               37.780760   \n",
       "75%       796.000000        239.000000               37.797280   \n",
       "max     85444.000000        398.000000               37.880222   \n",
       "\n",
       "       start_station_longitude  end_station_id  end_station_latitude  \\\n",
       "count            183412.000000   183215.000000         183412.000000   \n",
       "mean               -122.352664      136.249123             37.771427   \n",
       "std                   0.117097      111.515131              0.099490   \n",
       "min                -122.453704        3.000000             37.317298   \n",
       "25%                -122.412408       44.000000             37.770407   \n",
       "50%                -122.398285      100.000000             37.781010   \n",
       "75%                -122.286533      235.000000             37.797320   \n",
       "max                -121.874119      398.000000             37.880222   \n",
       "\n",
       "       end_station_longitude        bike_id  member_birth_year  \n",
       "count          183412.000000  183412.000000      175147.000000  \n",
       "mean             -122.352250    4472.906375        1984.806437  \n",
       "std                 0.116673    1664.383394          10.116689  \n",
       "min              -122.453704      11.000000        1878.000000  \n",
       "25%              -122.411726    3777.000000        1980.000000  \n",
       "50%              -122.398279    4958.000000        1987.000000  \n",
       "75%              -122.288045    5502.000000        1992.000000  \n",
       "max              -121.874119    6645.000000        2001.000000  "
      ]
     },
     "execution_count": 4,
     "metadata": {},
     "output_type": "execute_result"
    }
   ],
   "source": [
    "#exploring descriptive statistics\n",
    "df.describe()"
   ]
  },
  {
   "cell_type": "code",
   "execution_count": 5,
   "id": "0f863f1f",
   "metadata": {
    "colab": {
     "base_uri": "https://localhost:8080/"
    },
    "id": "0f863f1f",
    "outputId": "2224711c-c077-4eda-a2ae-2038ca76e829",
    "slideshow": {
     "slide_type": "skip"
    }
   },
   "outputs": [
    {
     "name": "stdout",
     "output_type": "stream",
     "text": [
      "4752 unique values are in duration_sec and null values of 0\n",
      "183401 unique values are in start_time and null values of 0\n",
      "183397 unique values are in end_time and null values of 0\n",
      "329 unique values are in start_station_id and null values of 197\n",
      "329 unique values are in start_station_name and null values of 197\n",
      "334 unique values are in start_station_latitude and null values of 0\n",
      "335 unique values are in start_station_longitude and null values of 0\n",
      "329 unique values are in end_station_id and null values of 197\n",
      "329 unique values are in end_station_name and null values of 197\n",
      "335 unique values are in end_station_latitude and null values of 0\n",
      "335 unique values are in end_station_longitude and null values of 0\n",
      "4646 unique values are in bike_id and null values of 0\n",
      "2 unique values are in user_type and null values of 0\n",
      "75 unique values are in member_birth_year and null values of 8265\n",
      "3 unique values are in member_gender and null values of 8265\n",
      "2 unique values are in bike_share_for_all_trip and null values of 0\n"
     ]
    }
   ],
   "source": [
    "# running a loop to check for unique and null values in each rows\n",
    "cols = [\"duration_sec\",\"start_time\",\"end_time\", \"start_station_id\",\"start_station_name\",\"start_station_latitude\", \"start_station_longitude\", \"end_station_id\", \"end_station_name\", \"end_station_latitude\", \"end_station_longitude\", \"bike_id\",\"user_type\", \"member_birth_year\", \"member_gender\", \"bike_share_for_all_trip\"]\n",
    "for col in cols:\n",
    "    x = df[col].nunique()\n",
    "    y = df[col].isna().sum()\n",
    "    print(\"{} unique values are in {} and null values of {}\".format(x, col, y))"
   ]
  },
  {
   "cell_type": "code",
   "execution_count": 6,
   "id": "56ea1aed",
   "metadata": {
    "colab": {
     "base_uri": "https://localhost:8080/"
    },
    "id": "56ea1aed",
    "outputId": "30f2c325-b344-4d07-bb17-d8d7fc2d02c4",
    "slideshow": {
     "slide_type": "skip"
    }
   },
   "outputs": [
    {
     "data": {
      "text/plain": [
       "(183412, 16)"
      ]
     },
     "execution_count": 6,
     "metadata": {},
     "output_type": "execute_result"
    }
   ],
   "source": [
    "#checking for number of rows and columns\n",
    "df.shape"
   ]
  },
  {
   "cell_type": "code",
   "execution_count": 7,
   "id": "4db40773",
   "metadata": {
    "colab": {
     "base_uri": "https://localhost:8080/"
    },
    "id": "4db40773",
    "outputId": "081eecea-8b1e-44fd-ac74-0049d60ed66f",
    "slideshow": {
     "slide_type": "skip"
    }
   },
   "outputs": [
    {
     "data": {
      "text/plain": [
       "0"
      ]
     },
     "execution_count": 7,
     "metadata": {},
     "output_type": "execute_result"
    }
   ],
   "source": [
    "#checking for duplicated rows in the dataset\n",
    "df.duplicated().sum()"
   ]
  },
  {
   "cell_type": "markdown",
   "id": "dc4b6e15",
   "metadata": {
    "slideshow": {
     "slide_type": "slide"
    }
   },
   "source": [
    "### The dataset orginially contains about 183k rows and 16 columns with no duplicated records, while some contain null data but less than 5% of the whole data"
   ]
  },
  {
   "cell_type": "markdown",
   "id": "b1ed7cfc",
   "metadata": {
    "slideshow": {
     "slide_type": "skip"
    }
   },
   "source": [
    "<a id='cleaning'></a>\n",
    "# Data Cleaning"
   ]
  },
  {
   "cell_type": "code",
   "execution_count": 8,
   "id": "71b639b2",
   "metadata": {
    "colab": {
     "base_uri": "https://localhost:8080/"
    },
    "id": "71b639b2",
    "outputId": "fc1735d5-fefd-4d8b-f5b3-84d405f2f110",
    "slideshow": {
     "slide_type": "skip"
    }
   },
   "outputs": [
    {
     "name": "stdout",
     "output_type": "stream",
     "text": [
      "<class 'pandas.core.frame.DataFrame'>\n",
      "RangeIndex: 183412 entries, 0 to 183411\n",
      "Data columns (total 16 columns):\n",
      " #   Column                   Non-Null Count   Dtype         \n",
      "---  ------                   --------------   -----         \n",
      " 0   duration_sec             183412 non-null  int64         \n",
      " 1   start_time               183412 non-null  datetime64[ns]\n",
      " 2   end_time                 183412 non-null  datetime64[ns]\n",
      " 3   start_station_id         183215 non-null  float64       \n",
      " 4   start_station_name       183215 non-null  object        \n",
      " 5   start_station_latitude   183412 non-null  float64       \n",
      " 6   start_station_longitude  183412 non-null  float64       \n",
      " 7   end_station_id           183215 non-null  float64       \n",
      " 8   end_station_name         183215 non-null  object        \n",
      " 9   end_station_latitude     183412 non-null  float64       \n",
      " 10  end_station_longitude    183412 non-null  float64       \n",
      " 11  bike_id                  183412 non-null  int64         \n",
      " 12  user_type                183412 non-null  object        \n",
      " 13  member_birth_year        175147 non-null  float64       \n",
      " 14  member_gender            175147 non-null  object        \n",
      " 15  bike_share_for_all_trip  183412 non-null  object        \n",
      "dtypes: datetime64[ns](2), float64(7), int64(2), object(5)\n",
      "memory usage: 22.4+ MB\n"
     ]
    }
   ],
   "source": [
    "#converting time columns from object to datetime for further easier data extraction \n",
    "df[\"start_time\"] = pd.to_datetime(df[\"start_time\"])\n",
    "df[\"end_time\"] = pd.to_datetime(df[\"end_time\"])\n",
    "df.info()"
   ]
  },
  {
   "cell_type": "code",
   "execution_count": 9,
   "id": "04dea962",
   "metadata": {
    "slideshow": {
     "slide_type": "skip"
    }
   },
   "outputs": [],
   "source": [
    "#creating new columns for start and end time in hours and minutes only for further analysis\n",
    "df[\"st_hours\"] = df[\"start_time\"].dt.hour\n",
    "df[\"en_hours\"] = df[\"end_time\"].dt.hour\n",
    "df[\"st_min\"] = df[\"start_time\"].dt.minute\n",
    "df[\"en_min\"] = df[\"end_time\"].dt.minute\n",
    "df[\"Age\"] = 2019 - df[\"member_birth_year\"] "
   ]
  },
  {
   "cell_type": "code",
   "execution_count": 10,
   "id": "e702549d",
   "metadata": {
    "colab": {
     "base_uri": "https://localhost:8080/",
     "height": 826
    },
    "id": "e702549d",
    "outputId": "551e5929-cc25-4635-895b-21029ae8fe06",
    "slideshow": {
     "slide_type": "skip"
    }
   },
   "outputs": [
    {
     "name": "stdout",
     "output_type": "stream",
     "text": [
      "<class 'pandas.core.frame.DataFrame'>\n",
      "RangeIndex: 183412 entries, 0 to 183411\n",
      "Data columns (total 22 columns):\n",
      " #   Column                   Non-Null Count   Dtype          \n",
      "---  ------                   --------------   -----          \n",
      " 0   duration_sec             183412 non-null  int64          \n",
      " 1   start_time               183412 non-null  datetime64[ns] \n",
      " 2   end_time                 183412 non-null  datetime64[ns] \n",
      " 3   start_station_id         183215 non-null  float64        \n",
      " 4   start_station_name       183215 non-null  object         \n",
      " 5   start_station_latitude   183412 non-null  float64        \n",
      " 6   start_station_longitude  183412 non-null  float64        \n",
      " 7   end_station_id           183215 non-null  float64        \n",
      " 8   end_station_name         183215 non-null  object         \n",
      " 9   end_station_latitude     183412 non-null  float64        \n",
      " 10  end_station_longitude    183412 non-null  float64        \n",
      " 11  bike_id                  183412 non-null  int64          \n",
      " 12  user_type                183412 non-null  object         \n",
      " 13  member_birth_year        175147 non-null  float64        \n",
      " 14  member_gender            175147 non-null  object         \n",
      " 15  bike_share_for_all_trip  183412 non-null  object         \n",
      " 16  st_hours                 183412 non-null  int64          \n",
      " 17  en_hours                 183412 non-null  int64          \n",
      " 18  st_min                   183412 non-null  int64          \n",
      " 19  en_min                   183412 non-null  int64          \n",
      " 20  Age                      175147 non-null  float64        \n",
      " 21  trip_duration            183412 non-null  timedelta64[ns]\n",
      "dtypes: datetime64[ns](2), float64(8), int64(6), object(5), timedelta64[ns](1)\n",
      "memory usage: 30.8+ MB\n",
      "None\n"
     ]
    },
    {
     "data": {
      "text/html": [
       "<div>\n",
       "<style scoped>\n",
       "    .dataframe tbody tr th:only-of-type {\n",
       "        vertical-align: middle;\n",
       "    }\n",
       "\n",
       "    .dataframe tbody tr th {\n",
       "        vertical-align: top;\n",
       "    }\n",
       "\n",
       "    .dataframe thead th {\n",
       "        text-align: right;\n",
       "    }\n",
       "</style>\n",
       "<table border=\"1\" class=\"dataframe\">\n",
       "  <thead>\n",
       "    <tr style=\"text-align: right;\">\n",
       "      <th></th>\n",
       "      <th>duration_sec</th>\n",
       "      <th>start_time</th>\n",
       "      <th>end_time</th>\n",
       "      <th>start_station_id</th>\n",
       "      <th>start_station_name</th>\n",
       "      <th>start_station_latitude</th>\n",
       "      <th>start_station_longitude</th>\n",
       "      <th>end_station_id</th>\n",
       "      <th>end_station_name</th>\n",
       "      <th>end_station_latitude</th>\n",
       "      <th>...</th>\n",
       "      <th>user_type</th>\n",
       "      <th>member_birth_year</th>\n",
       "      <th>member_gender</th>\n",
       "      <th>bike_share_for_all_trip</th>\n",
       "      <th>st_hours</th>\n",
       "      <th>en_hours</th>\n",
       "      <th>st_min</th>\n",
       "      <th>en_min</th>\n",
       "      <th>Age</th>\n",
       "      <th>trip_duration</th>\n",
       "    </tr>\n",
       "  </thead>\n",
       "  <tbody>\n",
       "    <tr>\n",
       "      <th>0</th>\n",
       "      <td>52185</td>\n",
       "      <td>2019-02-28 17:32:10.145</td>\n",
       "      <td>2019-03-01 08:01:55.975</td>\n",
       "      <td>21.0</td>\n",
       "      <td>Montgomery St BART Station (Market St at 2nd St)</td>\n",
       "      <td>37.789625</td>\n",
       "      <td>-122.400811</td>\n",
       "      <td>13.0</td>\n",
       "      <td>Commercial St at Montgomery St</td>\n",
       "      <td>37.794231</td>\n",
       "      <td>...</td>\n",
       "      <td>Customer</td>\n",
       "      <td>1984.0</td>\n",
       "      <td>Male</td>\n",
       "      <td>No</td>\n",
       "      <td>17</td>\n",
       "      <td>8</td>\n",
       "      <td>32</td>\n",
       "      <td>1</td>\n",
       "      <td>35.0</td>\n",
       "      <td>0 days 14:29:45.830000</td>\n",
       "    </tr>\n",
       "    <tr>\n",
       "      <th>1</th>\n",
       "      <td>42521</td>\n",
       "      <td>2019-02-28 18:53:21.789</td>\n",
       "      <td>2019-03-01 06:42:03.056</td>\n",
       "      <td>23.0</td>\n",
       "      <td>The Embarcadero at Steuart St</td>\n",
       "      <td>37.791464</td>\n",
       "      <td>-122.391034</td>\n",
       "      <td>81.0</td>\n",
       "      <td>Berry St at 4th St</td>\n",
       "      <td>37.775880</td>\n",
       "      <td>...</td>\n",
       "      <td>Customer</td>\n",
       "      <td>NaN</td>\n",
       "      <td>NaN</td>\n",
       "      <td>No</td>\n",
       "      <td>18</td>\n",
       "      <td>6</td>\n",
       "      <td>53</td>\n",
       "      <td>42</td>\n",
       "      <td>NaN</td>\n",
       "      <td>0 days 11:48:41.267000</td>\n",
       "    </tr>\n",
       "    <tr>\n",
       "      <th>2</th>\n",
       "      <td>61854</td>\n",
       "      <td>2019-02-28 12:13:13.218</td>\n",
       "      <td>2019-03-01 05:24:08.146</td>\n",
       "      <td>86.0</td>\n",
       "      <td>Market St at Dolores St</td>\n",
       "      <td>37.769305</td>\n",
       "      <td>-122.426826</td>\n",
       "      <td>3.0</td>\n",
       "      <td>Powell St BART Station (Market St at 4th St)</td>\n",
       "      <td>37.786375</td>\n",
       "      <td>...</td>\n",
       "      <td>Customer</td>\n",
       "      <td>1972.0</td>\n",
       "      <td>Male</td>\n",
       "      <td>No</td>\n",
       "      <td>12</td>\n",
       "      <td>5</td>\n",
       "      <td>13</td>\n",
       "      <td>24</td>\n",
       "      <td>47.0</td>\n",
       "      <td>0 days 17:10:54.928000</td>\n",
       "    </tr>\n",
       "    <tr>\n",
       "      <th>3</th>\n",
       "      <td>36490</td>\n",
       "      <td>2019-02-28 17:54:26.010</td>\n",
       "      <td>2019-03-01 04:02:36.842</td>\n",
       "      <td>375.0</td>\n",
       "      <td>Grove St at Masonic Ave</td>\n",
       "      <td>37.774836</td>\n",
       "      <td>-122.446546</td>\n",
       "      <td>70.0</td>\n",
       "      <td>Central Ave at Fell St</td>\n",
       "      <td>37.773311</td>\n",
       "      <td>...</td>\n",
       "      <td>Subscriber</td>\n",
       "      <td>1989.0</td>\n",
       "      <td>Other</td>\n",
       "      <td>No</td>\n",
       "      <td>17</td>\n",
       "      <td>4</td>\n",
       "      <td>54</td>\n",
       "      <td>2</td>\n",
       "      <td>30.0</td>\n",
       "      <td>0 days 10:08:10.832000</td>\n",
       "    </tr>\n",
       "    <tr>\n",
       "      <th>4</th>\n",
       "      <td>1585</td>\n",
       "      <td>2019-02-28 23:54:18.549</td>\n",
       "      <td>2019-03-01 00:20:44.074</td>\n",
       "      <td>7.0</td>\n",
       "      <td>Frank H Ogawa Plaza</td>\n",
       "      <td>37.804562</td>\n",
       "      <td>-122.271738</td>\n",
       "      <td>222.0</td>\n",
       "      <td>10th Ave at E 15th St</td>\n",
       "      <td>37.792714</td>\n",
       "      <td>...</td>\n",
       "      <td>Subscriber</td>\n",
       "      <td>1974.0</td>\n",
       "      <td>Male</td>\n",
       "      <td>Yes</td>\n",
       "      <td>23</td>\n",
       "      <td>0</td>\n",
       "      <td>54</td>\n",
       "      <td>20</td>\n",
       "      <td>45.0</td>\n",
       "      <td>0 days 00:26:25.525000</td>\n",
       "    </tr>\n",
       "  </tbody>\n",
       "</table>\n",
       "<p>5 rows × 22 columns</p>\n",
       "</div>"
      ],
      "text/plain": [
       "   duration_sec              start_time                end_time  \\\n",
       "0         52185 2019-02-28 17:32:10.145 2019-03-01 08:01:55.975   \n",
       "1         42521 2019-02-28 18:53:21.789 2019-03-01 06:42:03.056   \n",
       "2         61854 2019-02-28 12:13:13.218 2019-03-01 05:24:08.146   \n",
       "3         36490 2019-02-28 17:54:26.010 2019-03-01 04:02:36.842   \n",
       "4          1585 2019-02-28 23:54:18.549 2019-03-01 00:20:44.074   \n",
       "\n",
       "   start_station_id                                start_station_name  \\\n",
       "0              21.0  Montgomery St BART Station (Market St at 2nd St)   \n",
       "1              23.0                     The Embarcadero at Steuart St   \n",
       "2              86.0                           Market St at Dolores St   \n",
       "3             375.0                           Grove St at Masonic Ave   \n",
       "4               7.0                               Frank H Ogawa Plaza   \n",
       "\n",
       "   start_station_latitude  start_station_longitude  end_station_id  \\\n",
       "0               37.789625              -122.400811            13.0   \n",
       "1               37.791464              -122.391034            81.0   \n",
       "2               37.769305              -122.426826             3.0   \n",
       "3               37.774836              -122.446546            70.0   \n",
       "4               37.804562              -122.271738           222.0   \n",
       "\n",
       "                               end_station_name  end_station_latitude  ...  \\\n",
       "0                Commercial St at Montgomery St             37.794231  ...   \n",
       "1                            Berry St at 4th St             37.775880  ...   \n",
       "2  Powell St BART Station (Market St at 4th St)             37.786375  ...   \n",
       "3                        Central Ave at Fell St             37.773311  ...   \n",
       "4                         10th Ave at E 15th St             37.792714  ...   \n",
       "\n",
       "    user_type  member_birth_year member_gender  bike_share_for_all_trip  \\\n",
       "0    Customer             1984.0          Male                       No   \n",
       "1    Customer                NaN           NaN                       No   \n",
       "2    Customer             1972.0          Male                       No   \n",
       "3  Subscriber             1989.0         Other                       No   \n",
       "4  Subscriber             1974.0          Male                      Yes   \n",
       "\n",
       "  st_hours en_hours  st_min  en_min   Age          trip_duration  \n",
       "0       17        8      32       1  35.0 0 days 14:29:45.830000  \n",
       "1       18        6      53      42   NaN 0 days 11:48:41.267000  \n",
       "2       12        5      13      24  47.0 0 days 17:10:54.928000  \n",
       "3       17        4      54       2  30.0 0 days 10:08:10.832000  \n",
       "4       23        0      54      20  45.0 0 days 00:26:25.525000  \n",
       "\n",
       "[5 rows x 22 columns]"
      ]
     },
     "execution_count": 10,
     "metadata": {},
     "output_type": "execute_result"
    }
   ],
   "source": [
    "#creating a trip duration column in timedelta64 dtype\n",
    "df[\"trip_duration\"] = df[\"end_time\"] - df[\"start_time\"]\n",
    "print(df.info())\n",
    "df.head()"
   ]
  },
  {
   "cell_type": "code",
   "execution_count": 11,
   "id": "xGrGItVa8x26",
   "metadata": {
    "colab": {
     "base_uri": "https://localhost:8080/"
    },
    "id": "xGrGItVa8x26",
    "outputId": "16aa021b-3a43-4960-8e64-08bd7c96c24f",
    "slideshow": {
     "slide_type": "skip"
    }
   },
   "outputs": [],
   "source": [
    "#creating new columns for the whole route by combining start and end stations\n",
    "df[\"full_route\"] = df[\"start_station_name\"].astype(str) + \" to \" + df[\"end_station_name\"].astype(str)\n",
    "df[\"full_route_id\"] = df[\"start_station_id\"].astype(str) + \" to \" + df[\"end_station_id\"].astype(str)"
   ]
  },
  {
   "cell_type": "code",
   "execution_count": 12,
   "id": "20391d56",
   "metadata": {
    "slideshow": {
     "slide_type": "skip"
    }
   },
   "outputs": [
    {
     "data": {
      "text/html": [
       "<div>\n",
       "<style scoped>\n",
       "    .dataframe tbody tr th:only-of-type {\n",
       "        vertical-align: middle;\n",
       "    }\n",
       "\n",
       "    .dataframe tbody tr th {\n",
       "        vertical-align: top;\n",
       "    }\n",
       "\n",
       "    .dataframe thead th {\n",
       "        text-align: right;\n",
       "    }\n",
       "</style>\n",
       "<table border=\"1\" class=\"dataframe\">\n",
       "  <thead>\n",
       "    <tr style=\"text-align: right;\">\n",
       "      <th></th>\n",
       "      <th>duration_sec</th>\n",
       "      <th>start_station_id</th>\n",
       "      <th>start_station_latitude</th>\n",
       "      <th>start_station_longitude</th>\n",
       "      <th>end_station_id</th>\n",
       "      <th>end_station_latitude</th>\n",
       "      <th>end_station_longitude</th>\n",
       "      <th>bike_id</th>\n",
       "      <th>member_birth_year</th>\n",
       "      <th>st_hours</th>\n",
       "      <th>en_hours</th>\n",
       "      <th>st_min</th>\n",
       "      <th>en_min</th>\n",
       "      <th>Age</th>\n",
       "      <th>trip_duration</th>\n",
       "      <th>duration_min</th>\n",
       "    </tr>\n",
       "  </thead>\n",
       "  <tbody>\n",
       "    <tr>\n",
       "      <th>count</th>\n",
       "      <td>183412.000000</td>\n",
       "      <td>183215.000000</td>\n",
       "      <td>183412.000000</td>\n",
       "      <td>183412.000000</td>\n",
       "      <td>183215.000000</td>\n",
       "      <td>183412.000000</td>\n",
       "      <td>183412.000000</td>\n",
       "      <td>183412.000000</td>\n",
       "      <td>175147.000000</td>\n",
       "      <td>183412.000000</td>\n",
       "      <td>183412.000000</td>\n",
       "      <td>183412.000000</td>\n",
       "      <td>183412.000000</td>\n",
       "      <td>175147.000000</td>\n",
       "      <td>183412</td>\n",
       "      <td>183412.000000</td>\n",
       "    </tr>\n",
       "    <tr>\n",
       "      <th>mean</th>\n",
       "      <td>726.078435</td>\n",
       "      <td>138.590427</td>\n",
       "      <td>37.771223</td>\n",
       "      <td>-122.352664</td>\n",
       "      <td>136.249123</td>\n",
       "      <td>37.771427</td>\n",
       "      <td>-122.352250</td>\n",
       "      <td>4472.906375</td>\n",
       "      <td>1984.806437</td>\n",
       "      <td>13.458421</td>\n",
       "      <td>13.614769</td>\n",
       "      <td>29.451317</td>\n",
       "      <td>29.670256</td>\n",
       "      <td>34.193563</td>\n",
       "      <td>0 days 00:12:06.577548164</td>\n",
       "      <td>12.101307</td>\n",
       "    </tr>\n",
       "    <tr>\n",
       "      <th>std</th>\n",
       "      <td>1794.389780</td>\n",
       "      <td>111.778864</td>\n",
       "      <td>0.099581</td>\n",
       "      <td>0.117097</td>\n",
       "      <td>111.515131</td>\n",
       "      <td>0.099490</td>\n",
       "      <td>0.116673</td>\n",
       "      <td>1664.383394</td>\n",
       "      <td>10.116689</td>\n",
       "      <td>4.724978</td>\n",
       "      <td>4.739638</td>\n",
       "      <td>17.368447</td>\n",
       "      <td>17.441214</td>\n",
       "      <td>10.116689</td>\n",
       "      <td>0 days 00:29:54.388971051</td>\n",
       "      <td>29.906496</td>\n",
       "    </tr>\n",
       "    <tr>\n",
       "      <th>min</th>\n",
       "      <td>61.000000</td>\n",
       "      <td>3.000000</td>\n",
       "      <td>37.317298</td>\n",
       "      <td>-122.453704</td>\n",
       "      <td>3.000000</td>\n",
       "      <td>37.317298</td>\n",
       "      <td>-122.453704</td>\n",
       "      <td>11.000000</td>\n",
       "      <td>1878.000000</td>\n",
       "      <td>0.000000</td>\n",
       "      <td>0.000000</td>\n",
       "      <td>0.000000</td>\n",
       "      <td>0.000000</td>\n",
       "      <td>18.000000</td>\n",
       "      <td>0 days 00:01:01.081000</td>\n",
       "      <td>1.016667</td>\n",
       "    </tr>\n",
       "    <tr>\n",
       "      <th>25%</th>\n",
       "      <td>325.000000</td>\n",
       "      <td>47.000000</td>\n",
       "      <td>37.770083</td>\n",
       "      <td>-122.412408</td>\n",
       "      <td>44.000000</td>\n",
       "      <td>37.770407</td>\n",
       "      <td>-122.411726</td>\n",
       "      <td>3777.000000</td>\n",
       "      <td>1980.000000</td>\n",
       "      <td>9.000000</td>\n",
       "      <td>9.000000</td>\n",
       "      <td>14.000000</td>\n",
       "      <td>15.000000</td>\n",
       "      <td>27.000000</td>\n",
       "      <td>0 days 00:05:25.428500</td>\n",
       "      <td>5.416667</td>\n",
       "    </tr>\n",
       "    <tr>\n",
       "      <th>50%</th>\n",
       "      <td>514.000000</td>\n",
       "      <td>104.000000</td>\n",
       "      <td>37.780760</td>\n",
       "      <td>-122.398285</td>\n",
       "      <td>100.000000</td>\n",
       "      <td>37.781010</td>\n",
       "      <td>-122.398279</td>\n",
       "      <td>4958.000000</td>\n",
       "      <td>1987.000000</td>\n",
       "      <td>14.000000</td>\n",
       "      <td>14.000000</td>\n",
       "      <td>29.000000</td>\n",
       "      <td>30.000000</td>\n",
       "      <td>32.000000</td>\n",
       "      <td>0 days 00:08:34.649500</td>\n",
       "      <td>8.566667</td>\n",
       "    </tr>\n",
       "    <tr>\n",
       "      <th>75%</th>\n",
       "      <td>796.000000</td>\n",
       "      <td>239.000000</td>\n",
       "      <td>37.797280</td>\n",
       "      <td>-122.286533</td>\n",
       "      <td>235.000000</td>\n",
       "      <td>37.797320</td>\n",
       "      <td>-122.288045</td>\n",
       "      <td>5502.000000</td>\n",
       "      <td>1992.000000</td>\n",
       "      <td>17.000000</td>\n",
       "      <td>18.000000</td>\n",
       "      <td>45.000000</td>\n",
       "      <td>45.000000</td>\n",
       "      <td>39.000000</td>\n",
       "      <td>0 days 00:13:16.317000</td>\n",
       "      <td>13.266667</td>\n",
       "    </tr>\n",
       "    <tr>\n",
       "      <th>max</th>\n",
       "      <td>85444.000000</td>\n",
       "      <td>398.000000</td>\n",
       "      <td>37.880222</td>\n",
       "      <td>-121.874119</td>\n",
       "      <td>398.000000</td>\n",
       "      <td>37.880222</td>\n",
       "      <td>-121.874119</td>\n",
       "      <td>6645.000000</td>\n",
       "      <td>2001.000000</td>\n",
       "      <td>23.000000</td>\n",
       "      <td>23.000000</td>\n",
       "      <td>59.000000</td>\n",
       "      <td>59.000000</td>\n",
       "      <td>141.000000</td>\n",
       "      <td>0 days 23:44:04.830000</td>\n",
       "      <td>1424.066667</td>\n",
       "    </tr>\n",
       "  </tbody>\n",
       "</table>\n",
       "</div>"
      ],
      "text/plain": [
       "        duration_sec  start_station_id  start_station_latitude  \\\n",
       "count  183412.000000     183215.000000           183412.000000   \n",
       "mean      726.078435        138.590427               37.771223   \n",
       "std      1794.389780        111.778864                0.099581   \n",
       "min        61.000000          3.000000               37.317298   \n",
       "25%       325.000000         47.000000               37.770083   \n",
       "50%       514.000000        104.000000               37.780760   \n",
       "75%       796.000000        239.000000               37.797280   \n",
       "max     85444.000000        398.000000               37.880222   \n",
       "\n",
       "       start_station_longitude  end_station_id  end_station_latitude  \\\n",
       "count            183412.000000   183215.000000         183412.000000   \n",
       "mean               -122.352664      136.249123             37.771427   \n",
       "std                   0.117097      111.515131              0.099490   \n",
       "min                -122.453704        3.000000             37.317298   \n",
       "25%                -122.412408       44.000000             37.770407   \n",
       "50%                -122.398285      100.000000             37.781010   \n",
       "75%                -122.286533      235.000000             37.797320   \n",
       "max                -121.874119      398.000000             37.880222   \n",
       "\n",
       "       end_station_longitude        bike_id  member_birth_year       st_hours  \\\n",
       "count          183412.000000  183412.000000      175147.000000  183412.000000   \n",
       "mean             -122.352250    4472.906375        1984.806437      13.458421   \n",
       "std                 0.116673    1664.383394          10.116689       4.724978   \n",
       "min              -122.453704      11.000000        1878.000000       0.000000   \n",
       "25%              -122.411726    3777.000000        1980.000000       9.000000   \n",
       "50%              -122.398279    4958.000000        1987.000000      14.000000   \n",
       "75%              -122.288045    5502.000000        1992.000000      17.000000   \n",
       "max              -121.874119    6645.000000        2001.000000      23.000000   \n",
       "\n",
       "            en_hours         st_min         en_min            Age  \\\n",
       "count  183412.000000  183412.000000  183412.000000  175147.000000   \n",
       "mean       13.614769      29.451317      29.670256      34.193563   \n",
       "std         4.739638      17.368447      17.441214      10.116689   \n",
       "min         0.000000       0.000000       0.000000      18.000000   \n",
       "25%         9.000000      14.000000      15.000000      27.000000   \n",
       "50%        14.000000      29.000000      30.000000      32.000000   \n",
       "75%        18.000000      45.000000      45.000000      39.000000   \n",
       "max        23.000000      59.000000      59.000000     141.000000   \n",
       "\n",
       "                   trip_duration   duration_min  \n",
       "count                     183412  183412.000000  \n",
       "mean   0 days 00:12:06.577548164      12.101307  \n",
       "std    0 days 00:29:54.388971051      29.906496  \n",
       "min       0 days 00:01:01.081000       1.016667  \n",
       "25%       0 days 00:05:25.428500       5.416667  \n",
       "50%       0 days 00:08:34.649500       8.566667  \n",
       "75%       0 days 00:13:16.317000      13.266667  \n",
       "max       0 days 23:44:04.830000    1424.066667  "
      ]
     },
     "execution_count": 12,
     "metadata": {},
     "output_type": "execute_result"
    }
   ],
   "source": [
    "#converting trip duration from seconds to minutes\n",
    "df[\"duration_min\"] = df.duration_sec/60\n",
    "df.describe()"
   ]
  },
  {
   "cell_type": "code",
   "execution_count": 13,
   "id": "8086e0a3",
   "metadata": {
    "scrolled": true,
    "slideshow": {
     "slide_type": "skip"
    }
   },
   "outputs": [
    {
     "data": {
      "text/plain": [
       "31.0     10236\n",
       "26.0      9325\n",
       "30.0      8972\n",
       "29.0      8658\n",
       "28.0      8498\n",
       "         ...  \n",
       "91.0         1\n",
       "89.0         1\n",
       "109.0        1\n",
       "141.0        1\n",
       "92.0         1\n",
       "Name: Age, Length: 75, dtype: int64"
      ]
     },
     "execution_count": 13,
     "metadata": {},
     "output_type": "execute_result"
    }
   ],
   "source": [
    "#checking for unique value counts in age column\n",
    "df.Age.value_counts()"
   ]
  },
  {
   "cell_type": "code",
   "execution_count": 14,
   "id": "fa3c9247",
   "metadata": {
    "slideshow": {
     "slide_type": "skip"
    }
   },
   "outputs": [],
   "source": [
    "#creating a variable for checking all member ages then sorting them ascendingly in the next cell\n",
    "x= df.Age.unique()"
   ]
  },
  {
   "cell_type": "code",
   "execution_count": 15,
   "id": "b86d977b",
   "metadata": {
    "slideshow": {
     "slide_type": "skip"
    }
   },
   "outputs": [
    {
     "data": {
      "text/plain": [
       "array([ 18.,  19.,  20.,  21.,  22.,  23.,  24.,  25.,  26.,  27.,  28.,\n",
       "        29.,  30.,  31.,  32.,  33.,  34.,  35.,  36.,  37.,  38.,  39.,\n",
       "        40.,  41.,  42.,  43.,  44.,  45.,  46.,  47.,  48.,  49.,  50.,\n",
       "        51.,  52.,  53.,  54.,  55.,  56.,  57.,  58.,  59.,  60.,  61.,\n",
       "        62.,  63.,  64.,  65.,  66.,  67.,  68.,  69.,  70.,  71.,  72.,\n",
       "        73.,  74.,  75.,  76.,  77.,  78.,  80.,  81.,  85.,  86.,  88.,\n",
       "        89.,  91.,  92.,  99., 109., 117., 118., 119., 141.,  nan])"
      ]
     },
     "execution_count": 15,
     "metadata": {},
     "output_type": "execute_result"
    }
   ],
   "source": [
    "x.sort()\n",
    "x"
   ]
  },
  {
   "cell_type": "markdown",
   "id": "c494defe",
   "metadata": {
    "slideshow": {
     "slide_type": "slide"
    }
   },
   "source": [
    "<a id='explaratory'></a>\n",
    "\n",
    "# Explaratory data analysis and univariate vasuliazation"
   ]
  },
  {
   "cell_type": "markdown",
   "id": "f50eefeb",
   "metadata": {
    "slideshow": {
     "slide_type": "slide"
    }
   },
   "source": [
    "## What are the most common routes ?\n",
    "### There are about 24k routes which members\n",
    "### the top 20 routes account only for about 2.7% of the whole trips therefore it has no practical singnifcance to analyze it unless other variables are introduced\n",
    "#### Berry St at 4th St to San Francisco Ferry Building is the most common one but with only 0.2% of the whole routes"
   ]
  },
  {
   "cell_type": "code",
   "execution_count": 16,
   "id": "4f34fd51",
   "metadata": {
    "slideshow": {
     "slide_type": "skip"
    }
   },
   "outputs": [
    {
     "data": {
      "text/plain": [
       "23649"
      ]
     },
     "execution_count": 16,
     "metadata": {},
     "output_type": "execute_result"
    }
   ],
   "source": [
    "#check for number of unique routes which members take\n",
    "df.full_route_id.nunique()"
   ]
  },
  {
   "cell_type": "code",
   "execution_count": 17,
   "id": "0b334594",
   "metadata": {
    "slideshow": {
     "slide_type": "skip"
    }
   },
   "outputs": [],
   "source": [
    "#introducing a variable for the top 20 routes then calculate their percentage of the whole trips\n",
    "top20_routes = df.full_route.value_counts()[:20]"
   ]
  },
  {
   "cell_type": "code",
   "execution_count": 18,
   "id": "5cdf06fb",
   "metadata": {
    "slideshow": {
     "slide_type": "skip"
    }
   },
   "outputs": [
    {
     "data": {
      "text/plain": [
       "2.7222864370924476"
      ]
     },
     "execution_count": 18,
     "metadata": {},
     "output_type": "execute_result"
    }
   ],
   "source": [
    "top20_routes.sum()/len(df.full_route)*100"
   ]
  },
  {
   "cell_type": "code",
   "execution_count": 19,
   "id": "b499b4ee",
   "metadata": {},
   "outputs": [
    {
     "data": {
      "text/plain": [
       "Berry St at 4th St to San Francisco Ferry Building (Harry Bridges Plaza)               337\n",
       "San Francisco Ferry Building (Harry Bridges Plaza) to The Embarcadero at Sansome St    314\n",
       "Grand Ave at Perkins St to 19th Street BART Station                                    310\n",
       "The Embarcadero at Sansome St to Steuart St at Market St                               285\n",
       "19th Street BART Station to Grand Ave at Perkins St                                    284\n",
       "                                                                                      ... \n",
       "Isabella St at San Pablo Ave to Fruitvale BART Station                                   1\n",
       "Folsom St at 9th St to O'Farrell St at Divisadero St                                     1\n",
       "Fountain Alley at S 2nd St to Pierce Ave at Market St                                    1\n",
       "Franklin St at 9th St to San Pablo Ave at 27th St                                        1\n",
       "5th St at Brannan St to S Park St at 3rd St                                              1\n",
       "Name: full_route, Length: 23649, dtype: int64"
      ]
     },
     "execution_count": 19,
     "metadata": {},
     "output_type": "execute_result"
    }
   ],
   "source": [
    "#introducing a variable for the top route taken then calculate its percentage of the whole trips\n",
    "df.full_route.value_counts()"
   ]
  },
  {
   "cell_type": "code",
   "execution_count": 20,
   "id": "b5d210c1",
   "metadata": {},
   "outputs": [
    {
     "data": {
      "text/plain": [
       "0.18373934093734323"
      ]
     },
     "execution_count": 20,
     "metadata": {},
     "output_type": "execute_result"
    }
   ],
   "source": [
    "df.full_route.value_counts()[0]/len(df.full_route)*100"
   ]
  },
  {
   "cell_type": "markdown",
   "id": "9b91ad37",
   "metadata": {
    "slideshow": {
     "slide_type": "slide"
    }
   },
   "source": [
    "## Is there a difference in gender distribution ?\n",
    "\n",
    "### males are more than females in both subscribers and customers"
   ]
  },
  {
   "cell_type": "code",
   "execution_count": 21,
   "id": "591abc41",
   "metadata": {
    "colab": {
     "base_uri": "https://localhost:8080/",
     "height": 352
    },
    "id": "1c0f9c71",
    "outputId": "a21ea994-1f1d-432f-fd99-56554666065b",
    "slideshow": {
     "slide_type": "subslide"
    }
   },
   "outputs": [
    {
     "data": {
      "image/png": "[encoded data removed]",
      "text/plain": [
       "<Figure size 432x288 with 1 Axes>"
      ]
     },
     "metadata": {},
     "output_type": "display_data"
    }
   ],
   "source": [
    "gen_count = df.member_gender.value_counts()\n",
    "plt.pie(gen_count, labels = gen_count.index, startangle = 90, counterclock = False,autopct='%1.1f%%')\n",
    "plt.title(\"Gender distribution among all members\");"
   ]
  },
  {
   "cell_type": "markdown",
   "id": "384396ef",
   "metadata": {
    "slideshow": {
     "slide_type": "slide"
    }
   },
   "source": [
    "## What is the age distribution?\n",
    "\n",
    "### Most Members are between 20 and 40 years old"
   ]
  },
  {
   "cell_type": "code",
   "execution_count": 22,
   "id": "f17b52b0",
   "metadata": {
    "slideshow": {
     "slide_type": "subslide"
    }
   },
   "outputs": [
    {
     "data": {
      "image/png": "[encoded data removed]",
      "text/plain": [
       "<Figure size 360x360 with 1 Axes>"
      ]
     },
     "metadata": {
      "needs_background": "light"
     },
     "output_type": "display_data"
    }
   ],
   "source": [
    "sb.displot(df[\"Age\"], kind = 'hist', bins = 30)\n",
    "plt.xlim(18,100)\n",
    "plt.title(\"Age distribution among all members\");"
   ]
  },
  {
   "cell_type": "code",
   "execution_count": 23,
   "id": "21070ea4",
   "metadata": {
    "slideshow": {
     "slide_type": "skip"
    }
   },
   "outputs": [
    {
     "data": {
      "text/plain": [
       "4646"
      ]
     },
     "execution_count": 23,
     "metadata": {},
     "output_type": "execute_result"
    }
   ],
   "source": [
    "df.bike_id.nunique()"
   ]
  },
  {
   "cell_type": "code",
   "execution_count": 24,
   "id": "cce6feb3",
   "metadata": {
    "slideshow": {
     "slide_type": "skip"
    }
   },
   "outputs": [
    {
     "data": {
      "text/plain": [
       "4794    191\n",
       "4814    176\n",
       "4422    174\n",
       "5014    174\n",
       "5175    173\n",
       "       ... \n",
       "2306      1\n",
       "1930      1\n",
       "776       1\n",
       "540       1\n",
       "2148      1\n",
       "Name: bike_id, Length: 4646, dtype: int64"
      ]
     },
     "execution_count": 24,
     "metadata": {},
     "output_type": "execute_result"
    }
   ],
   "source": [
    "df.bike_id.value_counts()"
   ]
  },
  {
   "cell_type": "code",
   "execution_count": 25,
   "id": "046ed753",
   "metadata": {
    "slideshow": {
     "slide_type": "skip"
    }
   },
   "outputs": [
    {
     "data": {
      "text/plain": [
       "1.8570213508385491"
      ]
     },
     "execution_count": 25,
     "metadata": {},
     "output_type": "execute_result"
    }
   ],
   "source": [
    "top20_bikes = df.bike_id.value_counts()[:20]\n",
    "top20_bikes.sum()/df.bike_id.value_counts().sum()*100"
   ]
  },
  {
   "cell_type": "code",
   "execution_count": 26,
   "id": "ca3c6928",
   "metadata": {
    "slideshow": {
     "slide_type": "skip"
    }
   },
   "outputs": [
    {
     "data": {
      "text/plain": [
       "4.425010359191329"
      ]
     },
     "execution_count": 26,
     "metadata": {},
     "output_type": "execute_result"
    }
   ],
   "source": [
    "top50_bikes = df.bike_id.value_counts()[:50]\n",
    "top50_bikes.sum()/df.bike_id.value_counts().sum()*100"
   ]
  },
  {
   "cell_type": "markdown",
   "id": "9e2f934f",
   "metadata": {
    "slideshow": {
     "slide_type": "slide"
    }
   },
   "source": [
    "### Neither the top 20 nor top 50 bikes account for significant statistical insight"
   ]
  },
  {
   "cell_type": "markdown",
   "id": "9fcadc1a",
   "metadata": {
    "slideshow": {
     "slide_type": "slide"
    }
   },
   "source": [
    "## What is the average trip duration?\n",
    "\n",
    "### The most frequent duration for trips is between 3 and 9 minutes"
   ]
  },
  {
   "cell_type": "code",
   "execution_count": 27,
   "id": "34b02314",
   "metadata": {
    "slideshow": {
     "slide_type": "skip"
    }
   },
   "outputs": [
    {
     "data": {
      "image/png": "[encoded data removed]",
      "text/plain": [
       "<Figure size 360x360 with 1 Axes>"
      ]
     },
     "metadata": {
      "needs_background": "light"
     },
     "output_type": "display_data"
    }
   ],
   "source": [
    "sb.displot(df['duration_min'])\n",
    "plt.title(\"trip duration in minutes density among all members\");"
   ]
  },
  {
   "cell_type": "code",
   "execution_count": 28,
   "id": "970c533a",
   "metadata": {
    "slideshow": {
     "slide_type": "skip"
    }
   },
   "outputs": [
    {
     "data": {
      "text/plain": [
       "4752"
      ]
     },
     "execution_count": 28,
     "metadata": {},
     "output_type": "execute_result"
    }
   ],
   "source": [
    "df.duration_min.nunique()"
   ]
  },
  {
   "cell_type": "code",
   "execution_count": 29,
   "id": "fd394ac3",
   "metadata": {
    "slideshow": {
     "slide_type": "skip"
    }
   },
   "outputs": [
    {
     "data": {
      "image/png": "[encoded data removed]",
      "text/plain": [
       "<Figure size 216x360 with 1 Axes>"
      ]
     },
     "metadata": {
      "needs_background": "light"
     },
     "output_type": "display_data"
    }
   ],
   "source": [
    "\n",
    "\n",
    "base_color = sb.color_palette()[0]\n",
    "plt.figure(figsize = [3, 5])\n",
    "sb.boxplot(y = df['duration_min'],color=base_color)\n",
    "plt.title(\"boxplot of trip duration in minutes \");"
   ]
  },
  {
   "cell_type": "code",
   "execution_count": 30,
   "id": "78a61ce5",
   "metadata": {
    "slideshow": {
     "slide_type": "skip"
    }
   },
   "outputs": [
    {
     "data": {
      "text/plain": [
       "98.7334525549037"
      ]
     },
     "execution_count": 30,
     "metadata": {},
     "output_type": "execute_result"
    }
   ],
   "source": [
    "df_duration = df.query(\"duration_min < 50\")\n",
    "df_duration.shape[0]/df.shape[0]*100"
   ]
  },
  {
   "cell_type": "code",
   "execution_count": 43,
   "id": "bac87d8d",
   "metadata": {
    "slideshow": {
     "slide_type": "subslide"
    }
   },
   "outputs": [
    {
     "data": {
      "image/png": "[encoded data removed]",
      "text/plain": [
       "<Figure size 1152x360 with 2 Axes>"
      ]
     },
     "metadata": {
      "needs_background": "light"
     },
     "output_type": "display_data"
    }
   ],
   "source": [
    "plt.figure(figsize = [16, 5])\n",
    "plt.subplot(1, 2, 1)\n",
    "\n",
    "sb.boxplot(y = df['duration_min'],color=base_color)\n",
    "plt.ylim((0,50))\n",
    "plt.title(\"boxplot of trip duration in minutes after excluding outliers\");\n",
    "\n",
    "plt.subplot(1, 2, 2)\n",
    "\n",
    "plt.hist(data = df_duration, x = 'duration_min', bins = 30, rwidth = 0.9, density = True)\n",
    "plt.xlim(0,30)\n",
    "x_ticks = (np.arange(0, 31, step=1))\n",
    "plt.xticks(ticks=x_ticks, rotation = 90)\n",
    "plt.title(\"trip duration histogram after excluding outliers\");"
   ]
  },
  {
   "cell_type": "markdown",
   "id": "9ce59901",
   "metadata": {
    "slideshow": {
     "slide_type": "slide"
    }
   },
   "source": [
    "## Peak time analysis\n",
    "\n",
    "### Most rides take place at two intervals ; between 8 to 9 am and between 5 to 6 pm"
   ]
  },
  {
   "cell_type": "code",
   "execution_count": 33,
   "id": "7d96a4e8",
   "metadata": {
    "slideshow": {
     "slide_type": "subslide"
    }
   },
   "outputs": [
    {
     "data": {
      "image/png": "[encoded data removed]",
      "text/plain": [
       "<Figure size 1224x360 with 2 Axes>"
      ]
     },
     "metadata": {
      "needs_background": "light"
     },
     "output_type": "display_data"
    }
   ],
   "source": [
    "\n",
    "plt.figure(figsize = [17, 5]) \n",
    "\n",
    "\n",
    "plt.subplot(1,2,1)\n",
    "plt.hist(x = df[\"st_hours\"], bins = 24, rwidth = 0.7)\n",
    "x_ticks = (np.arange(0, 25, step=1))\n",
    "plt.xticks(ticks=x_ticks)\n",
    "plt.title(\"start time ride peaks per hour\");\n",
    "\n",
    "\n",
    "plt.subplot(1,2,2)\n",
    "plt.hist(x = df[\"en_hours\"], bins = 24, rwidth = 0.7)\n",
    "x_ticks = (np.arange(0, 25, step=1))\n",
    "plt.xticks(ticks=x_ticks)\n",
    "plt.title(\"end time ride peaks per hour\");\n"
   ]
  },
  {
   "cell_type": "markdown",
   "id": "1fb7e56f",
   "metadata": {
    "slideshow": {
     "slide_type": "subslide"
    }
   },
   "source": [
    "### no significant difference in the minutes where rides start and end"
   ]
  },
  {
   "cell_type": "code",
   "execution_count": 34,
   "id": "5fa6dae5",
   "metadata": {
    "slideshow": {
     "slide_type": "subslide"
    }
   },
   "outputs": [
    {
     "data": {
      "image/png": "[encoded data removed]",
      "text/plain": [
       "<Figure size 1224x360 with 2 Axes>"
      ]
     },
     "metadata": {
      "needs_background": "light"
     },
     "output_type": "display_data"
    }
   ],
   "source": [
    "plt.figure(figsize = [17, 5])\n",
    "\n",
    "plt.subplot(1,2,1)\n",
    "plt.hist(x = df[\"st_min\"], bins = 60, rwidth = 0.7)\n",
    "x_ticks = (np.arange(0, 61, step=1))\n",
    "plt.xticks(ticks=x_ticks, rotation = 90)\n",
    "plt.title(\"start time ride peaks per minutes\");\n",
    "\n",
    "plt.subplot(1,2,2)\n",
    "plt.hist(x = df[\"en_min\"], bins = 60, rwidth = 0.7)\n",
    "x_ticks = (np.arange(0, 61, step=1))\n",
    "plt.xticks(ticks=x_ticks, rotation = 90)\n",
    "plt.title(\"end time ride peaks per minutes\");\n"
   ]
  },
  {
   "cell_type": "markdown",
   "id": "e745937a",
   "metadata": {
    "slideshow": {
     "slide_type": "slide"
    }
   },
   "source": [
    "<a id='Bivariate'></a>\n",
    "\n",
    "# Bivariate Visualization"
   ]
  },
  {
   "cell_type": "markdown",
   "id": "162b9b80",
   "metadata": {
    "slideshow": {
     "slide_type": "slide"
    }
   },
   "source": [
    "## Correlation analysis\n",
    "\n",
    "### No significant correlation could be observed between differenet variables"
   ]
  },
  {
   "cell_type": "code",
   "execution_count": 35,
   "id": "c28f9c29",
   "metadata": {
    "slideshow": {
     "slide_type": "subslide"
    }
   },
   "outputs": [
    {
     "data": {
      "text/html": [
       "<style  type=\"text/css\" >\n",
       "#T_a1af4_row0_col0,#T_a1af4_row0_col14,#T_a1af4_row1_col1,#T_a1af4_row2_col2,#T_a1af4_row3_col3,#T_a1af4_row4_col4,#T_a1af4_row5_col5,#T_a1af4_row6_col6,#T_a1af4_row7_col7,#T_a1af4_row8_col8,#T_a1af4_row9_col9,#T_a1af4_row10_col10,#T_a1af4_row11_col11,#T_a1af4_row12_col12,#T_a1af4_row13_col13,#T_a1af4_row14_col0,#T_a1af4_row14_col14{\n",
       "            background-color:  #b40426;\n",
       "            color:  #f1f1f1;\n",
       "        }#T_a1af4_row0_col1,#T_a1af4_row14_col1{\n",
       "            background-color:  #6b8df0;\n",
       "            color:  #000000;\n",
       "        }#T_a1af4_row0_col2,#T_a1af4_row0_col5,#T_a1af4_row14_col2,#T_a1af4_row14_col5{\n",
       "            background-color:  #c4d5f3;\n",
       "            color:  #000000;\n",
       "        }#T_a1af4_row0_col3,#T_a1af4_row0_col6,#T_a1af4_row9_col5,#T_a1af4_row10_col5,#T_a1af4_row14_col3,#T_a1af4_row14_col6{\n",
       "            background-color:  #bbd1f8;\n",
       "            color:  #000000;\n",
       "        }#T_a1af4_row0_col4,#T_a1af4_row11_col4,#T_a1af4_row14_col4{\n",
       "            background-color:  #6f92f3;\n",
       "            color:  #000000;\n",
       "        }#T_a1af4_row0_col7,#T_a1af4_row7_col4,#T_a1af4_row8_col10,#T_a1af4_row14_col7{\n",
       "            background-color:  #5f7fe8;\n",
       "            color:  #000000;\n",
       "        }#T_a1af4_row0_col8,#T_a1af4_row11_col8,#T_a1af4_row12_col8,#T_a1af4_row14_col8{\n",
       "            background-color:  #dcdddd;\n",
       "            color:  #000000;\n",
       "        }#T_a1af4_row0_col9,#T_a1af4_row1_col7,#T_a1af4_row1_col10,#T_a1af4_row13_col11,#T_a1af4_row14_col9{\n",
       "            background-color:  #4f69d9;\n",
       "            color:  #000000;\n",
       "        }#T_a1af4_row0_col10,#T_a1af4_row1_col11,#T_a1af4_row4_col11,#T_a1af4_row5_col11,#T_a1af4_row7_col11,#T_a1af4_row7_col12,#T_a1af4_row13_col1,#T_a1af4_row13_col12,#T_a1af4_row14_col10{\n",
       "            background-color:  #4e68d8;\n",
       "            color:  #000000;\n",
       "        }#T_a1af4_row0_col11,#T_a1af4_row0_col12,#T_a1af4_row1_col12,#T_a1af4_row2_col11,#T_a1af4_row3_col11,#T_a1af4_row6_col11,#T_a1af4_row8_col11,#T_a1af4_row14_col11,#T_a1af4_row14_col12{\n",
       "            background-color:  #4c66d6;\n",
       "            color:  #000000;\n",
       "        }#T_a1af4_row0_col13,#T_a1af4_row11_col13,#T_a1af4_row12_col13,#T_a1af4_row14_col13{\n",
       "            background-color:  #dddcdc;\n",
       "            color:  #000000;\n",
       "        }#T_a1af4_row1_col0,#T_a1af4_row1_col14,#T_a1af4_row5_col10{\n",
       "            background-color:  #4358cb;\n",
       "            color:  #f1f1f1;\n",
       "        }#T_a1af4_row1_col2,#T_a1af4_row11_col12,#T_a1af4_row12_col11{\n",
       "            background-color:  #9bbcff;\n",
       "            color:  #000000;\n",
       "        }#T_a1af4_row1_col3{\n",
       "            background-color:  #f7b497;\n",
       "            color:  #000000;\n",
       "        }#T_a1af4_row1_col4{\n",
       "            background-color:  #cedaeb;\n",
       "            color:  #000000;\n",
       "        }#T_a1af4_row1_col5,#T_a1af4_row4_col2{\n",
       "            background-color:  #9ebeff;\n",
       "            color:  #000000;\n",
       "        }#T_a1af4_row1_col6{\n",
       "            background-color:  #f7b396;\n",
       "            color:  #000000;\n",
       "        }#T_a1af4_row1_col8,#T_a1af4_row4_col8,#T_a1af4_row6_col4{\n",
       "            background-color:  #ead4c8;\n",
       "            color:  #000000;\n",
       "        }#T_a1af4_row1_col9,#T_a1af4_row4_col7,#T_a1af4_row7_col10{\n",
       "            background-color:  #516ddb;\n",
       "            color:  #000000;\n",
       "        }#T_a1af4_row1_col13,#T_a1af4_row4_col1,#T_a1af4_row4_col13{\n",
       "            background-color:  #cdd9ec;\n",
       "            color:  #000000;\n",
       "        }#T_a1af4_row2_col0,#T_a1af4_row2_col9,#T_a1af4_row2_col14,#T_a1af4_row5_col0,#T_a1af4_row5_col14{\n",
       "            background-color:  #4961d2;\n",
       "            color:  #f1f1f1;\n",
       "        }#T_a1af4_row2_col1,#T_a1af4_row2_col3,#T_a1af4_row2_col6,#T_a1af4_row3_col0,#T_a1af4_row3_col2,#T_a1af4_row3_col5,#T_a1af4_row3_col7,#T_a1af4_row3_col14,#T_a1af4_row5_col3,#T_a1af4_row5_col4,#T_a1af4_row5_col6,#T_a1af4_row6_col0,#T_a1af4_row6_col2,#T_a1af4_row6_col5,#T_a1af4_row6_col7,#T_a1af4_row6_col14,#T_a1af4_row8_col13,#T_a1af4_row9_col11,#T_a1af4_row10_col12,#T_a1af4_row11_col9,#T_a1af4_row12_col10,#T_a1af4_row13_col8,#T_a1af4_row13_col9,#T_a1af4_row13_col10{\n",
       "            background-color:  #3b4cc0;\n",
       "            color:  #f1f1f1;\n",
       "        }#T_a1af4_row2_col4{\n",
       "            background-color:  #3e51c5;\n",
       "            color:  #f1f1f1;\n",
       "        }#T_a1af4_row2_col5,#T_a1af4_row3_col6,#T_a1af4_row5_col2,#T_a1af4_row6_col3{\n",
       "            background-color:  #b50927;\n",
       "            color:  #f1f1f1;\n",
       "        }#T_a1af4_row2_col7,#T_a1af4_row5_col7,#T_a1af4_row9_col1,#T_a1af4_row10_col1{\n",
       "            background-color:  #7093f3;\n",
       "            color:  #000000;\n",
       "        }#T_a1af4_row2_col8,#T_a1af4_row5_col8{\n",
       "            background-color:  #d3dbe7;\n",
       "            color:  #000000;\n",
       "        }#T_a1af4_row2_col10,#T_a1af4_row9_col0,#T_a1af4_row9_col14,#T_a1af4_row13_col0,#T_a1af4_row13_col14{\n",
       "            background-color:  #485fd1;\n",
       "            color:  #f1f1f1;\n",
       "        }#T_a1af4_row2_col12,#T_a1af4_row3_col12,#T_a1af4_row4_col12,#T_a1af4_row5_col12,#T_a1af4_row6_col12,#T_a1af4_row8_col12{\n",
       "            background-color:  #4b64d5;\n",
       "            color:  #f1f1f1;\n",
       "        }#T_a1af4_row2_col13,#T_a1af4_row5_col13{\n",
       "            background-color:  #e6d7cf;\n",
       "            color:  #000000;\n",
       "        }#T_a1af4_row3_col1{\n",
       "            background-color:  #e8d6cc;\n",
       "            color:  #000000;\n",
       "        }#T_a1af4_row3_col4,#T_a1af4_row3_col8,#T_a1af4_row6_col8{\n",
       "            background-color:  #ecd3c5;\n",
       "            color:  #000000;\n",
       "        }#T_a1af4_row3_col9{\n",
       "            background-color:  #5e7de7;\n",
       "            color:  #000000;\n",
       "        }#T_a1af4_row3_col10,#T_a1af4_row7_col1{\n",
       "            background-color:  #5b7ae5;\n",
       "            color:  #000000;\n",
       "        }#T_a1af4_row3_col13,#T_a1af4_row6_col13,#T_a1af4_row7_col2,#T_a1af4_row7_col5,#T_a1af4_row9_col3,#T_a1af4_row10_col3{\n",
       "            background-color:  #cbd8ee;\n",
       "            color:  #000000;\n",
       "        }#T_a1af4_row4_col0,#T_a1af4_row4_col14,#T_a1af4_row10_col0,#T_a1af4_row10_col14,#T_a1af4_row12_col9{\n",
       "            background-color:  #465ecf;\n",
       "            color:  #f1f1f1;\n",
       "        }#T_a1af4_row4_col3{\n",
       "            background-color:  #f7b093;\n",
       "            color:  #000000;\n",
       "        }#T_a1af4_row4_col5{\n",
       "            background-color:  #9abbff;\n",
       "            color:  #000000;\n",
       "        }#T_a1af4_row4_col6{\n",
       "            background-color:  #f7b194;\n",
       "            color:  #000000;\n",
       "        }#T_a1af4_row4_col9{\n",
       "            background-color:  #6a8bef;\n",
       "            color:  #000000;\n",
       "        }#T_a1af4_row4_col10{\n",
       "            background-color:  #6788ee;\n",
       "            color:  #000000;\n",
       "        }#T_a1af4_row5_col1{\n",
       "            background-color:  #3d50c3;\n",
       "            color:  #f1f1f1;\n",
       "        }#T_a1af4_row5_col9,#T_a1af4_row7_col0,#T_a1af4_row7_col14,#T_a1af4_row8_col0,#T_a1af4_row8_col14,#T_a1af4_row11_col0,#T_a1af4_row11_col10,#T_a1af4_row11_col14{\n",
       "            background-color:  #445acc;\n",
       "            color:  #f1f1f1;\n",
       "        }#T_a1af4_row6_col1{\n",
       "            background-color:  #ead5c9;\n",
       "            color:  #000000;\n",
       "        }#T_a1af4_row6_col9,#T_a1af4_row13_col7{\n",
       "            background-color:  #5875e1;\n",
       "            color:  #000000;\n",
       "        }#T_a1af4_row6_col10{\n",
       "            background-color:  #5572df;\n",
       "            color:  #000000;\n",
       "        }#T_a1af4_row7_col3,#T_a1af4_row7_col6{\n",
       "            background-color:  #a6c4fe;\n",
       "            color:  #000000;\n",
       "        }#T_a1af4_row7_col8{\n",
       "            background-color:  #e1dad6;\n",
       "            color:  #000000;\n",
       "        }#T_a1af4_row7_col9{\n",
       "            background-color:  #536edd;\n",
       "            color:  #000000;\n",
       "        }#T_a1af4_row7_col13,#T_a1af4_row8_col6{\n",
       "            background-color:  #d8dce2;\n",
       "            color:  #000000;\n",
       "        }#T_a1af4_row8_col1{\n",
       "            background-color:  #8fb1fe;\n",
       "            color:  #000000;\n",
       "        }#T_a1af4_row8_col2,#T_a1af4_row8_col5{\n",
       "            background-color:  #b3cdfb;\n",
       "            color:  #000000;\n",
       "        }#T_a1af4_row8_col3{\n",
       "            background-color:  #d7dce3;\n",
       "            color:  #000000;\n",
       "        }#T_a1af4_row8_col4{\n",
       "            background-color:  #90b2fe;\n",
       "            color:  #000000;\n",
       "        }#T_a1af4_row8_col7{\n",
       "            background-color:  #6c8ff1;\n",
       "            color:  #000000;\n",
       "        }#T_a1af4_row8_col9{\n",
       "            background-color:  #6180e9;\n",
       "            color:  #000000;\n",
       "        }#T_a1af4_row9_col2,#T_a1af4_row10_col2{\n",
       "            background-color:  #bfd3f6;\n",
       "            color:  #000000;\n",
       "        }#T_a1af4_row9_col4,#T_a1af4_row10_col4{\n",
       "            background-color:  #89acfd;\n",
       "            color:  #000000;\n",
       "        }#T_a1af4_row9_col6{\n",
       "            background-color:  #c9d7f0;\n",
       "            color:  #000000;\n",
       "        }#T_a1af4_row9_col7,#T_a1af4_row10_col7{\n",
       "            background-color:  #6687ed;\n",
       "            color:  #000000;\n",
       "        }#T_a1af4_row9_col8{\n",
       "            background-color:  #e5d8d1;\n",
       "            color:  #000000;\n",
       "        }#T_a1af4_row9_col10,#T_a1af4_row10_col9{\n",
       "            background-color:  #ba162b;\n",
       "            color:  #f1f1f1;\n",
       "        }#T_a1af4_row9_col12,#T_a1af4_row10_col11,#T_a1af4_row12_col0,#T_a1af4_row12_col14{\n",
       "            background-color:  #455cce;\n",
       "            color:  #f1f1f1;\n",
       "        }#T_a1af4_row9_col13{\n",
       "            background-color:  #d4dbe6;\n",
       "            color:  #000000;\n",
       "        }#T_a1af4_row10_col6{\n",
       "            background-color:  #c7d7f0;\n",
       "            color:  #000000;\n",
       "        }#T_a1af4_row10_col8{\n",
       "            background-color:  #e4d9d2;\n",
       "            color:  #000000;\n",
       "        }#T_a1af4_row10_col13{\n",
       "            background-color:  #d5dbe5;\n",
       "            color:  #000000;\n",
       "        }#T_a1af4_row11_col1,#T_a1af4_row12_col1,#T_a1af4_row12_col4{\n",
       "            background-color:  #6e90f2;\n",
       "            color:  #000000;\n",
       "        }#T_a1af4_row11_col2,#T_a1af4_row11_col3,#T_a1af4_row11_col5,#T_a1af4_row11_col6,#T_a1af4_row12_col2,#T_a1af4_row12_col3,#T_a1af4_row12_col5,#T_a1af4_row12_col6{\n",
       "            background-color:  #c1d4f4;\n",
       "            color:  #000000;\n",
       "        }#T_a1af4_row11_col7,#T_a1af4_row12_col7{\n",
       "            background-color:  #6282ea;\n",
       "            color:  #000000;\n",
       "        }#T_a1af4_row13_col2,#T_a1af4_row13_col5{\n",
       "            background-color:  #cfdaea;\n",
       "            color:  #000000;\n",
       "        }#T_a1af4_row13_col3,#T_a1af4_row13_col6{\n",
       "            background-color:  #a9c6fd;\n",
       "            color:  #000000;\n",
       "        }#T_a1af4_row13_col4{\n",
       "            background-color:  #506bda;\n",
       "            color:  #000000;\n",
       "        }</style><table id=\"T_a1af4_\" ><thead>    <tr>        <th class=\"blank level0\" ></th>        <th class=\"col_heading level0 col0\" >duration_sec</th>        <th class=\"col_heading level0 col1\" >start_station_id</th>        <th class=\"col_heading level0 col2\" >start_station_latitude</th>        <th class=\"col_heading level0 col3\" >start_station_longitude</th>        <th class=\"col_heading level0 col4\" >end_station_id</th>        <th class=\"col_heading level0 col5\" >end_station_latitude</th>        <th class=\"col_heading level0 col6\" >end_station_longitude</th>        <th class=\"col_heading level0 col7\" >bike_id</th>        <th class=\"col_heading level0 col8\" >member_birth_year</th>        <th class=\"col_heading level0 col9\" >st_hours</th>        <th class=\"col_heading level0 col10\" >en_hours</th>        <th class=\"col_heading level0 col11\" >st_min</th>        <th class=\"col_heading level0 col12\" >en_min</th>        <th class=\"col_heading level0 col13\" >Age</th>        <th class=\"col_heading level0 col14\" >duration_min</th>    </tr></thead><tbody>\n",
       "                <tr>\n",
       "                        <th id=\"T_a1af4_level0_row0\" class=\"row_heading level0 row0\" >duration_sec</th>\n",
       "                        <td id=\"T_a1af4_row0_col0\" class=\"data row0 col0\" >1.000000</td>\n",
       "                        <td id=\"T_a1af4_row0_col1\" class=\"data row0 col1\" >-0.008652</td>\n",
       "                        <td id=\"T_a1af4_row0_col2\" class=\"data row0 col2\" >0.010513</td>\n",
       "                        <td id=\"T_a1af4_row0_col3\" class=\"data row0 col3\" >-0.037930</td>\n",
       "                        <td id=\"T_a1af4_row0_col4\" class=\"data row0 col4\" >0.003064</td>\n",
       "                        <td id=\"T_a1af4_row0_col5\" class=\"data row0 col5\" >0.010873</td>\n",
       "                        <td id=\"T_a1af4_row0_col6\" class=\"data row0 col6\" >-0.038906</td>\n",
       "                        <td id=\"T_a1af4_row0_col7\" class=\"data row0 col7\" >-0.006133</td>\n",
       "                        <td id=\"T_a1af4_row0_col8\" class=\"data row0 col8\" >-0.006027</td>\n",
       "                        <td id=\"T_a1af4_row0_col9\" class=\"data row0 col9\" >0.006645</td>\n",
       "                        <td id=\"T_a1af4_row0_col10\" class=\"data row0 col10\" >0.004388</td>\n",
       "                        <td id=\"T_a1af4_row0_col11\" class=\"data row0 col11\" >-0.003398</td>\n",
       "                        <td id=\"T_a1af4_row0_col12\" class=\"data row0 col12\" >0.001029</td>\n",
       "                        <td id=\"T_a1af4_row0_col13\" class=\"data row0 col13\" >0.006027</td>\n",
       "                        <td id=\"T_a1af4_row0_col14\" class=\"data row0 col14\" >1.000000</td>\n",
       "            </tr>\n",
       "            <tr>\n",
       "                        <th id=\"T_a1af4_level0_row1\" class=\"row_heading level0 row1\" >start_station_id</th>\n",
       "                        <td id=\"T_a1af4_row1_col0\" class=\"data row1 col0\" >-0.008652</td>\n",
       "                        <td id=\"T_a1af4_row1_col1\" class=\"data row1 col1\" >1.000000</td>\n",
       "                        <td id=\"T_a1af4_row1_col2\" class=\"data row1 col2\" >-0.190978</td>\n",
       "                        <td id=\"T_a1af4_row1_col3\" class=\"data row1 col3\" >0.459169</td>\n",
       "                        <td id=\"T_a1af4_row1_col4\" class=\"data row1 col4\" >0.336227</td>\n",
       "                        <td id=\"T_a1af4_row1_col5\" class=\"data row1 col5\" >-0.179771</td>\n",
       "                        <td id=\"T_a1af4_row1_col6\" class=\"data row1 col6\" >0.466755</td>\n",
       "                        <td id=\"T_a1af4_row1_col7\" class=\"data row1 col7\" >-0.064677</td>\n",
       "                        <td id=\"T_a1af4_row1_col8\" class=\"data row1 col8\" >0.115115</td>\n",
       "                        <td id=\"T_a1af4_row1_col9\" class=\"data row1 col9\" >0.012272</td>\n",
       "                        <td id=\"T_a1af4_row1_col10\" class=\"data row1 col10\" >0.010674</td>\n",
       "                        <td id=\"T_a1af4_row1_col11\" class=\"data row1 col11\" >0.000814</td>\n",
       "                        <td id=\"T_a1af4_row1_col12\" class=\"data row1 col12\" >0.002018</td>\n",
       "                        <td id=\"T_a1af4_row1_col13\" class=\"data row1 col13\" >-0.115115</td>\n",
       "                        <td id=\"T_a1af4_row1_col14\" class=\"data row1 col14\" >-0.008652</td>\n",
       "            </tr>\n",
       "            <tr>\n",
       "                        <th id=\"T_a1af4_level0_row2\" class=\"row_heading level0 row2\" >start_station_latitude</th>\n",
       "                        <td id=\"T_a1af4_row2_col0\" class=\"data row2 col0\" >0.010513</td>\n",
       "                        <td id=\"T_a1af4_row2_col1\" class=\"data row2 col1\" >-0.190978</td>\n",
       "                        <td id=\"T_a1af4_row2_col2\" class=\"data row2 col2\" >1.000000</td>\n",
       "                        <td id=\"T_a1af4_row2_col3\" class=\"data row2 col3\" >-0.677227</td>\n",
       "                        <td id=\"T_a1af4_row2_col4\" class=\"data row2 col4\" >-0.179727</td>\n",
       "                        <td id=\"T_a1af4_row2_col5\" class=\"data row2 col5\" >0.989969</td>\n",
       "                        <td id=\"T_a1af4_row2_col6\" class=\"data row2 col6\" >-0.682637</td>\n",
       "                        <td id=\"T_a1af4_row2_col7\" class=\"data row2 col7\" >0.049996</td>\n",
       "                        <td id=\"T_a1af4_row2_col8\" class=\"data row2 col8\" >-0.075826</td>\n",
       "                        <td id=\"T_a1af4_row2_col9\" class=\"data row2 col9\" >-0.017101</td>\n",
       "                        <td id=\"T_a1af4_row2_col10\" class=\"data row2 col10\" >-0.016514</td>\n",
       "                        <td id=\"T_a1af4_row2_col11\" class=\"data row2 col11\" >-0.001344</td>\n",
       "                        <td id=\"T_a1af4_row2_col12\" class=\"data row2 col12\" >-0.002863</td>\n",
       "                        <td id=\"T_a1af4_row2_col13\" class=\"data row2 col13\" >0.075826</td>\n",
       "                        <td id=\"T_a1af4_row2_col14\" class=\"data row2 col14\" >0.010513</td>\n",
       "            </tr>\n",
       "            <tr>\n",
       "                        <th id=\"T_a1af4_level0_row3\" class=\"row_heading level0 row3\" >start_station_longitude</th>\n",
       "                        <td id=\"T_a1af4_row3_col0\" class=\"data row3 col0\" >-0.037930</td>\n",
       "                        <td id=\"T_a1af4_row3_col1\" class=\"data row3 col1\" >0.459169</td>\n",
       "                        <td id=\"T_a1af4_row3_col2\" class=\"data row3 col2\" >-0.677227</td>\n",
       "                        <td id=\"T_a1af4_row3_col3\" class=\"data row3 col3\" >1.000000</td>\n",
       "                        <td id=\"T_a1af4_row3_col4\" class=\"data row3 col4\" >0.479688</td>\n",
       "                        <td id=\"T_a1af4_row3_col5\" class=\"data row3 col5\" >-0.681815</td>\n",
       "                        <td id=\"T_a1af4_row3_col6\" class=\"data row3 col6\" >0.992410</td>\n",
       "                        <td id=\"T_a1af4_row3_col7\" class=\"data row3 col7\" >-0.141782</td>\n",
       "                        <td id=\"T_a1af4_row3_col8\" class=\"data row3 col8\" >0.125590</td>\n",
       "                        <td id=\"T_a1af4_row3_col9\" class=\"data row3 col9\" >0.053245</td>\n",
       "                        <td id=\"T_a1af4_row3_col10\" class=\"data row3 col10\" >0.049736</td>\n",
       "                        <td id=\"T_a1af4_row3_col11\" class=\"data row3 col11\" >-0.003071</td>\n",
       "                        <td id=\"T_a1af4_row3_col12\" class=\"data row3 col12\" >-0.004989</td>\n",
       "                        <td id=\"T_a1af4_row3_col13\" class=\"data row3 col13\" >-0.125590</td>\n",
       "                        <td id=\"T_a1af4_row3_col14\" class=\"data row3 col14\" >-0.037930</td>\n",
       "            </tr>\n",
       "            <tr>\n",
       "                        <th id=\"T_a1af4_level0_row4\" class=\"row_heading level0 row4\" >end_station_id</th>\n",
       "                        <td id=\"T_a1af4_row4_col0\" class=\"data row4 col0\" >0.003064</td>\n",
       "                        <td id=\"T_a1af4_row4_col1\" class=\"data row4 col1\" >0.336227</td>\n",
       "                        <td id=\"T_a1af4_row4_col2\" class=\"data row4 col2\" >-0.179727</td>\n",
       "                        <td id=\"T_a1af4_row4_col3\" class=\"data row4 col3\" >0.479688</td>\n",
       "                        <td id=\"T_a1af4_row4_col4\" class=\"data row4 col4\" >1.000000</td>\n",
       "                        <td id=\"T_a1af4_row4_col5\" class=\"data row4 col5\" >-0.197992</td>\n",
       "                        <td id=\"T_a1af4_row4_col6\" class=\"data row4 col6\" >0.469027</td>\n",
       "                        <td id=\"T_a1af4_row4_col7\" class=\"data row4 col7\" >-0.054607</td>\n",
       "                        <td id=\"T_a1af4_row4_col8\" class=\"data row4 col8\" >0.112709</td>\n",
       "                        <td id=\"T_a1af4_row4_col9\" class=\"data row4 col9\" >0.090772</td>\n",
       "                        <td id=\"T_a1af4_row4_col10\" class=\"data row4 col10\" >0.089351</td>\n",
       "                        <td id=\"T_a1af4_row4_col11\" class=\"data row4 col11\" >0.001524</td>\n",
       "                        <td id=\"T_a1af4_row4_col12\" class=\"data row4 col12\" >-0.002507</td>\n",
       "                        <td id=\"T_a1af4_row4_col13\" class=\"data row4 col13\" >-0.112709</td>\n",
       "                        <td id=\"T_a1af4_row4_col14\" class=\"data row4 col14\" >0.003064</td>\n",
       "            </tr>\n",
       "            <tr>\n",
       "                        <th id=\"T_a1af4_level0_row5\" class=\"row_heading level0 row5\" >end_station_latitude</th>\n",
       "                        <td id=\"T_a1af4_row5_col0\" class=\"data row5 col0\" >0.010873</td>\n",
       "                        <td id=\"T_a1af4_row5_col1\" class=\"data row5 col1\" >-0.179771</td>\n",
       "                        <td id=\"T_a1af4_row5_col2\" class=\"data row5 col2\" >0.989969</td>\n",
       "                        <td id=\"T_a1af4_row5_col3\" class=\"data row5 col3\" >-0.681815</td>\n",
       "                        <td id=\"T_a1af4_row5_col4\" class=\"data row5 col4\" >-0.197992</td>\n",
       "                        <td id=\"T_a1af4_row5_col5\" class=\"data row5 col5\" >1.000000</td>\n",
       "                        <td id=\"T_a1af4_row5_col6\" class=\"data row5 col6\" >-0.684197</td>\n",
       "                        <td id=\"T_a1af4_row5_col7\" class=\"data row5 col7\" >0.049244</td>\n",
       "                        <td id=\"T_a1af4_row5_col8\" class=\"data row5 col8\" >-0.075927</td>\n",
       "                        <td id=\"T_a1af4_row5_col9\" class=\"data row5 col9\" >-0.033929</td>\n",
       "                        <td id=\"T_a1af4_row5_col10\" class=\"data row5 col10\" >-0.033072</td>\n",
       "                        <td id=\"T_a1af4_row5_col11\" class=\"data row5 col11\" >-0.001025</td>\n",
       "                        <td id=\"T_a1af4_row5_col12\" class=\"data row5 col12\" >-0.002702</td>\n",
       "                        <td id=\"T_a1af4_row5_col13\" class=\"data row5 col13\" >0.075927</td>\n",
       "                        <td id=\"T_a1af4_row5_col14\" class=\"data row5 col14\" >0.010873</td>\n",
       "            </tr>\n",
       "            <tr>\n",
       "                        <th id=\"T_a1af4_level0_row6\" class=\"row_heading level0 row6\" >end_station_longitude</th>\n",
       "                        <td id=\"T_a1af4_row6_col0\" class=\"data row6 col0\" >-0.038906</td>\n",
       "                        <td id=\"T_a1af4_row6_col1\" class=\"data row6 col1\" >0.466755</td>\n",
       "                        <td id=\"T_a1af4_row6_col2\" class=\"data row6 col2\" >-0.682637</td>\n",
       "                        <td id=\"T_a1af4_row6_col3\" class=\"data row6 col3\" >0.992410</td>\n",
       "                        <td id=\"T_a1af4_row6_col4\" class=\"data row6 col4\" >0.469027</td>\n",
       "                        <td id=\"T_a1af4_row6_col5\" class=\"data row6 col5\" >-0.684197</td>\n",
       "                        <td id=\"T_a1af4_row6_col6\" class=\"data row6 col6\" >1.000000</td>\n",
       "                        <td id=\"T_a1af4_row6_col7\" class=\"data row6 col7\" >-0.143527</td>\n",
       "                        <td id=\"T_a1af4_row6_col8\" class=\"data row6 col8\" >0.126421</td>\n",
       "                        <td id=\"T_a1af4_row6_col9\" class=\"data row6 col9\" >0.033620</td>\n",
       "                        <td id=\"T_a1af4_row6_col10\" class=\"data row6 col10\" >0.030163</td>\n",
       "                        <td id=\"T_a1af4_row6_col11\" class=\"data row6 col11\" >-0.001978</td>\n",
       "                        <td id=\"T_a1af4_row6_col12\" class=\"data row6 col12\" >-0.003500</td>\n",
       "                        <td id=\"T_a1af4_row6_col13\" class=\"data row6 col13\" >-0.126421</td>\n",
       "                        <td id=\"T_a1af4_row6_col14\" class=\"data row6 col14\" >-0.038906</td>\n",
       "            </tr>\n",
       "            <tr>\n",
       "                        <th id=\"T_a1af4_level0_row7\" class=\"row_heading level0 row7\" >bike_id</th>\n",
       "                        <td id=\"T_a1af4_row7_col0\" class=\"data row7 col0\" >-0.006133</td>\n",
       "                        <td id=\"T_a1af4_row7_col1\" class=\"data row7 col1\" >-0.064677</td>\n",
       "                        <td id=\"T_a1af4_row7_col2\" class=\"data row7 col2\" >0.049996</td>\n",
       "                        <td id=\"T_a1af4_row7_col3\" class=\"data row7 col3\" >-0.141782</td>\n",
       "                        <td id=\"T_a1af4_row7_col4\" class=\"data row7 col4\" >-0.054607</td>\n",
       "                        <td id=\"T_a1af4_row7_col5\" class=\"data row7 col5\" >0.049244</td>\n",
       "                        <td id=\"T_a1af4_row7_col6\" class=\"data row7 col6\" >-0.143527</td>\n",
       "                        <td id=\"T_a1af4_row7_col7\" class=\"data row7 col7\" >1.000000</td>\n",
       "                        <td id=\"T_a1af4_row7_col8\" class=\"data row7 col8\" >0.036145</td>\n",
       "                        <td id=\"T_a1af4_row7_col9\" class=\"data row7 col9\" >0.016488</td>\n",
       "                        <td id=\"T_a1af4_row7_col10\" class=\"data row7 col10\" >0.016320</td>\n",
       "                        <td id=\"T_a1af4_row7_col11\" class=\"data row7 col11\" >0.002184</td>\n",
       "                        <td id=\"T_a1af4_row7_col12\" class=\"data row7 col12\" >0.003033</td>\n",
       "                        <td id=\"T_a1af4_row7_col13\" class=\"data row7 col13\" >-0.036145</td>\n",
       "                        <td id=\"T_a1af4_row7_col14\" class=\"data row7 col14\" >-0.006133</td>\n",
       "            </tr>\n",
       "            <tr>\n",
       "                        <th id=\"T_a1af4_level0_row8\" class=\"row_heading level0 row8\" >member_birth_year</th>\n",
       "                        <td id=\"T_a1af4_row8_col0\" class=\"data row8 col0\" >-0.006027</td>\n",
       "                        <td id=\"T_a1af4_row8_col1\" class=\"data row8 col1\" >0.115115</td>\n",
       "                        <td id=\"T_a1af4_row8_col2\" class=\"data row8 col2\" >-0.075826</td>\n",
       "                        <td id=\"T_a1af4_row8_col3\" class=\"data row8 col3\" >0.125590</td>\n",
       "                        <td id=\"T_a1af4_row8_col4\" class=\"data row8 col4\" >0.112709</td>\n",
       "                        <td id=\"T_a1af4_row8_col5\" class=\"data row8 col5\" >-0.075927</td>\n",
       "                        <td id=\"T_a1af4_row8_col6\" class=\"data row8 col6\" >0.126421</td>\n",
       "                        <td id=\"T_a1af4_row8_col7\" class=\"data row8 col7\" >0.036145</td>\n",
       "                        <td id=\"T_a1af4_row8_col8\" class=\"data row8 col8\" >1.000000</td>\n",
       "                        <td id=\"T_a1af4_row8_col9\" class=\"data row8 col9\" >0.064090</td>\n",
       "                        <td id=\"T_a1af4_row8_col10\" class=\"data row8 col10\" >0.062263</td>\n",
       "                        <td id=\"T_a1af4_row8_col11\" class=\"data row8 col11\" >-0.003123</td>\n",
       "                        <td id=\"T_a1af4_row8_col12\" class=\"data row8 col12\" >-0.003568</td>\n",
       "                        <td id=\"T_a1af4_row8_col13\" class=\"data row8 col13\" >-1.000000</td>\n",
       "                        <td id=\"T_a1af4_row8_col14\" class=\"data row8 col14\" >-0.006027</td>\n",
       "            </tr>\n",
       "            <tr>\n",
       "                        <th id=\"T_a1af4_level0_row9\" class=\"row_heading level0 row9\" >st_hours</th>\n",
       "                        <td id=\"T_a1af4_row9_col0\" class=\"data row9 col0\" >0.006645</td>\n",
       "                        <td id=\"T_a1af4_row9_col1\" class=\"data row9 col1\" >0.012272</td>\n",
       "                        <td id=\"T_a1af4_row9_col2\" class=\"data row9 col2\" >-0.017101</td>\n",
       "                        <td id=\"T_a1af4_row9_col3\" class=\"data row9 col3\" >0.053245</td>\n",
       "                        <td id=\"T_a1af4_row9_col4\" class=\"data row9 col4\" >0.090772</td>\n",
       "                        <td id=\"T_a1af4_row9_col5\" class=\"data row9 col5\" >-0.033929</td>\n",
       "                        <td id=\"T_a1af4_row9_col6\" class=\"data row9 col6\" >0.033620</td>\n",
       "                        <td id=\"T_a1af4_row9_col7\" class=\"data row9 col7\" >0.016488</td>\n",
       "                        <td id=\"T_a1af4_row9_col8\" class=\"data row9 col8\" >0.064090</td>\n",
       "                        <td id=\"T_a1af4_row9_col9\" class=\"data row9 col9\" >1.000000</td>\n",
       "                        <td id=\"T_a1af4_row9_col10\" class=\"data row9 col10\" >0.981298</td>\n",
       "                        <td id=\"T_a1af4_row9_col11\" class=\"data row9 col11\" >-0.067989</td>\n",
       "                        <td id=\"T_a1af4_row9_col12\" class=\"data row9 col12\" >-0.024037</td>\n",
       "                        <td id=\"T_a1af4_row9_col13\" class=\"data row9 col13\" >-0.064090</td>\n",
       "                        <td id=\"T_a1af4_row9_col14\" class=\"data row9 col14\" >0.006645</td>\n",
       "            </tr>\n",
       "            <tr>\n",
       "                        <th id=\"T_a1af4_level0_row10\" class=\"row_heading level0 row10\" >en_hours</th>\n",
       "                        <td id=\"T_a1af4_row10_col0\" class=\"data row10 col0\" >0.004388</td>\n",
       "                        <td id=\"T_a1af4_row10_col1\" class=\"data row10 col1\" >0.010674</td>\n",
       "                        <td id=\"T_a1af4_row10_col2\" class=\"data row10 col2\" >-0.016514</td>\n",
       "                        <td id=\"T_a1af4_row10_col3\" class=\"data row10 col3\" >0.049736</td>\n",
       "                        <td id=\"T_a1af4_row10_col4\" class=\"data row10 col4\" >0.089351</td>\n",
       "                        <td id=\"T_a1af4_row10_col5\" class=\"data row10 col5\" >-0.033072</td>\n",
       "                        <td id=\"T_a1af4_row10_col6\" class=\"data row10 col6\" >0.030163</td>\n",
       "                        <td id=\"T_a1af4_row10_col7\" class=\"data row10 col7\" >0.016320</td>\n",
       "                        <td id=\"T_a1af4_row10_col8\" class=\"data row10 col8\" >0.062263</td>\n",
       "                        <td id=\"T_a1af4_row10_col9\" class=\"data row10 col9\" >0.981298</td>\n",
       "                        <td id=\"T_a1af4_row10_col10\" class=\"data row10 col10\" >1.000000</td>\n",
       "                        <td id=\"T_a1af4_row10_col11\" class=\"data row10 col11\" >-0.027722</td>\n",
       "                        <td id=\"T_a1af4_row10_col12\" class=\"data row10 col12\" >-0.063758</td>\n",
       "                        <td id=\"T_a1af4_row10_col13\" class=\"data row10 col13\" >-0.062263</td>\n",
       "                        <td id=\"T_a1af4_row10_col14\" class=\"data row10 col14\" >0.004388</td>\n",
       "            </tr>\n",
       "            <tr>\n",
       "                        <th id=\"T_a1af4_level0_row11\" class=\"row_heading level0 row11\" >st_min</th>\n",
       "                        <td id=\"T_a1af4_row11_col0\" class=\"data row11 col0\" >-0.003398</td>\n",
       "                        <td id=\"T_a1af4_row11_col1\" class=\"data row11 col1\" >0.000814</td>\n",
       "                        <td id=\"T_a1af4_row11_col2\" class=\"data row11 col2\" >-0.001344</td>\n",
       "                        <td id=\"T_a1af4_row11_col3\" class=\"data row11 col3\" >-0.003071</td>\n",
       "                        <td id=\"T_a1af4_row11_col4\" class=\"data row11 col4\" >0.001524</td>\n",
       "                        <td id=\"T_a1af4_row11_col5\" class=\"data row11 col5\" >-0.001025</td>\n",
       "                        <td id=\"T_a1af4_row11_col6\" class=\"data row11 col6\" >-0.001978</td>\n",
       "                        <td id=\"T_a1af4_row11_col7\" class=\"data row11 col7\" >0.002184</td>\n",
       "                        <td id=\"T_a1af4_row11_col8\" class=\"data row11 col8\" >-0.003123</td>\n",
       "                        <td id=\"T_a1af4_row11_col9\" class=\"data row11 col9\" >-0.067989</td>\n",
       "                        <td id=\"T_a1af4_row11_col10\" class=\"data row11 col10\" >-0.027722</td>\n",
       "                        <td id=\"T_a1af4_row11_col11\" class=\"data row11 col11\" >1.000000</td>\n",
       "                        <td id=\"T_a1af4_row11_col12\" class=\"data row11 col12\" >0.244029</td>\n",
       "                        <td id=\"T_a1af4_row11_col13\" class=\"data row11 col13\" >0.003123</td>\n",
       "                        <td id=\"T_a1af4_row11_col14\" class=\"data row11 col14\" >-0.003398</td>\n",
       "            </tr>\n",
       "            <tr>\n",
       "                        <th id=\"T_a1af4_level0_row12\" class=\"row_heading level0 row12\" >en_min</th>\n",
       "                        <td id=\"T_a1af4_row12_col0\" class=\"data row12 col0\" >0.001029</td>\n",
       "                        <td id=\"T_a1af4_row12_col1\" class=\"data row12 col1\" >0.002018</td>\n",
       "                        <td id=\"T_a1af4_row12_col2\" class=\"data row12 col2\" >-0.002863</td>\n",
       "                        <td id=\"T_a1af4_row12_col3\" class=\"data row12 col3\" >-0.004989</td>\n",
       "                        <td id=\"T_a1af4_row12_col4\" class=\"data row12 col4\" >-0.002507</td>\n",
       "                        <td id=\"T_a1af4_row12_col5\" class=\"data row12 col5\" >-0.002702</td>\n",
       "                        <td id=\"T_a1af4_row12_col6\" class=\"data row12 col6\" >-0.003500</td>\n",
       "                        <td id=\"T_a1af4_row12_col7\" class=\"data row12 col7\" >0.003033</td>\n",
       "                        <td id=\"T_a1af4_row12_col8\" class=\"data row12 col8\" >-0.003568</td>\n",
       "                        <td id=\"T_a1af4_row12_col9\" class=\"data row12 col9\" >-0.024037</td>\n",
       "                        <td id=\"T_a1af4_row12_col10\" class=\"data row12 col10\" >-0.063758</td>\n",
       "                        <td id=\"T_a1af4_row12_col11\" class=\"data row12 col11\" >0.244029</td>\n",
       "                        <td id=\"T_a1af4_row12_col12\" class=\"data row12 col12\" >1.000000</td>\n",
       "                        <td id=\"T_a1af4_row12_col13\" class=\"data row12 col13\" >0.003568</td>\n",
       "                        <td id=\"T_a1af4_row12_col14\" class=\"data row12 col14\" >0.001029</td>\n",
       "            </tr>\n",
       "            <tr>\n",
       "                        <th id=\"T_a1af4_level0_row13\" class=\"row_heading level0 row13\" >Age</th>\n",
       "                        <td id=\"T_a1af4_row13_col0\" class=\"data row13 col0\" >0.006027</td>\n",
       "                        <td id=\"T_a1af4_row13_col1\" class=\"data row13 col1\" >-0.115115</td>\n",
       "                        <td id=\"T_a1af4_row13_col2\" class=\"data row13 col2\" >0.075826</td>\n",
       "                        <td id=\"T_a1af4_row13_col3\" class=\"data row13 col3\" >-0.125590</td>\n",
       "                        <td id=\"T_a1af4_row13_col4\" class=\"data row13 col4\" >-0.112709</td>\n",
       "                        <td id=\"T_a1af4_row13_col5\" class=\"data row13 col5\" >0.075927</td>\n",
       "                        <td id=\"T_a1af4_row13_col6\" class=\"data row13 col6\" >-0.126421</td>\n",
       "                        <td id=\"T_a1af4_row13_col7\" class=\"data row13 col7\" >-0.036145</td>\n",
       "                        <td id=\"T_a1af4_row13_col8\" class=\"data row13 col8\" >-1.000000</td>\n",
       "                        <td id=\"T_a1af4_row13_col9\" class=\"data row13 col9\" >-0.064090</td>\n",
       "                        <td id=\"T_a1af4_row13_col10\" class=\"data row13 col10\" >-0.062263</td>\n",
       "                        <td id=\"T_a1af4_row13_col11\" class=\"data row13 col11\" >0.003123</td>\n",
       "                        <td id=\"T_a1af4_row13_col12\" class=\"data row13 col12\" >0.003568</td>\n",
       "                        <td id=\"T_a1af4_row13_col13\" class=\"data row13 col13\" >1.000000</td>\n",
       "                        <td id=\"T_a1af4_row13_col14\" class=\"data row13 col14\" >0.006027</td>\n",
       "            </tr>\n",
       "            <tr>\n",
       "                        <th id=\"T_a1af4_level0_row14\" class=\"row_heading level0 row14\" >duration_min</th>\n",
       "                        <td id=\"T_a1af4_row14_col0\" class=\"data row14 col0\" >1.000000</td>\n",
       "                        <td id=\"T_a1af4_row14_col1\" class=\"data row14 col1\" >-0.008652</td>\n",
       "                        <td id=\"T_a1af4_row14_col2\" class=\"data row14 col2\" >0.010513</td>\n",
       "                        <td id=\"T_a1af4_row14_col3\" class=\"data row14 col3\" >-0.037930</td>\n",
       "                        <td id=\"T_a1af4_row14_col4\" class=\"data row14 col4\" >0.003064</td>\n",
       "                        <td id=\"T_a1af4_row14_col5\" class=\"data row14 col5\" >0.010873</td>\n",
       "                        <td id=\"T_a1af4_row14_col6\" class=\"data row14 col6\" >-0.038906</td>\n",
       "                        <td id=\"T_a1af4_row14_col7\" class=\"data row14 col7\" >-0.006133</td>\n",
       "                        <td id=\"T_a1af4_row14_col8\" class=\"data row14 col8\" >-0.006027</td>\n",
       "                        <td id=\"T_a1af4_row14_col9\" class=\"data row14 col9\" >0.006645</td>\n",
       "                        <td id=\"T_a1af4_row14_col10\" class=\"data row14 col10\" >0.004388</td>\n",
       "                        <td id=\"T_a1af4_row14_col11\" class=\"data row14 col11\" >-0.003398</td>\n",
       "                        <td id=\"T_a1af4_row14_col12\" class=\"data row14 col12\" >0.001029</td>\n",
       "                        <td id=\"T_a1af4_row14_col13\" class=\"data row14 col13\" >0.006027</td>\n",
       "                        <td id=\"T_a1af4_row14_col14\" class=\"data row14 col14\" >1.000000</td>\n",
       "            </tr>\n",
       "    </tbody></table>"
      ],
      "text/plain": [
       "<pandas.io.formats.style.Styler at 0x204235c6d00>"
      ]
     },
     "execution_count": 35,
     "metadata": {},
     "output_type": "execute_result"
    }
   ],
   "source": [
    "x = df.corr()\n",
    "x.style.background_gradient(cmap='coolwarm')"
   ]
  },
  {
   "cell_type": "markdown",
   "id": "166d9702",
   "metadata": {
    "slideshow": {
     "slide_type": "slide"
    }
   },
   "source": [
    "### in average, female members are younger than males while others are the oldest"
   ]
  },
  {
   "cell_type": "code",
   "execution_count": 36,
   "id": "e4cdbf89",
   "metadata": {
    "slideshow": {
     "slide_type": "subslide"
    }
   },
   "outputs": [
    {
     "data": {
      "image/png": "[encoded data removed]",
      "text/plain": [
       "<Figure size 1152x360 with 2 Axes>"
      ]
     },
     "metadata": {
      "needs_background": "light"
     },
     "output_type": "display_data"
    }
   ],
   "source": [
    "plt.figure(figsize = [16, 5])\n",
    "plt.subplot(1, 2, 1)\n",
    "sb.boxplot(data=df, x='member_gender', y='Age', color=base_color)\n",
    "plt.title(\"Member gender V Age\");\n",
    "\n",
    "plt.subplot(1, 2, 2)\n",
    "sb.boxplot(data=df, x='member_gender', y='Age', color=base_color)\n",
    "plt.title(\"Member gender V Age after excluding outliers\");\n",
    "plt.ylim(20,45);"
   ]
  },
  {
   "cell_type": "markdown",
   "id": "ee4acabf",
   "metadata": {
    "slideshow": {
     "slide_type": "slide"
    }
   },
   "source": [
    "## does being a customer or subscriber will change the gender distribution ?\n",
    "\n",
    "### Males are more than females in both customers and subscribers while others are the least in both"
   ]
  },
  {
   "cell_type": "code",
   "execution_count": 37,
   "id": "c5a4fd03",
   "metadata": {
    "slideshow": {
     "slide_type": "subslide"
    }
   },
   "outputs": [
    {
     "data": {
      "image/png": "[encoded data removed]",
      "text/plain": [
       "<Figure size 432x288 with 1 Axes>"
      ]
     },
     "metadata": {
      "needs_background": "light"
     },
     "output_type": "display_data"
    }
   ],
   "source": [
    "sb.countplot(data = df, x = 'member_gender', hue = 'user_type');\n",
    "plt.title(\"Member gender count among customers and subscribers\");"
   ]
  },
  {
   "cell_type": "markdown",
   "id": "36ca52e4",
   "metadata": {
    "slideshow": {
     "slide_type": "slide"
    }
   },
   "source": [
    "## Is there a difference in age between subscribers and customers?\n",
    "\n",
    "### No difference in Age between subscribers and customers"
   ]
  },
  {
   "cell_type": "code",
   "execution_count": 38,
   "id": "2706bb00",
   "metadata": {
    "slideshow": {
     "slide_type": "subslide"
    }
   },
   "outputs": [
    {
     "data": {
      "text/plain": [
       "(15.0, 70.0)"
      ]
     },
     "execution_count": 38,
     "metadata": {},
     "output_type": "execute_result"
    },
    {
     "data": {
      "image/png": "[encoded data removed]",
      "text/plain": [
       "<Figure size 1152x360 with 2 Axes>"
      ]
     },
     "metadata": {
      "needs_background": "light"
     },
     "output_type": "display_data"
    }
   ],
   "source": [
    "plt.figure(figsize = [16, 5])\n",
    "plt.subplot(1, 2, 1)\n",
    "sb.violinplot(data=df, x='user_type', y='Age', color=base_color, inner='quartile');\n",
    "plt.title(\"User type V Age \");\n",
    "\n",
    "plt.subplot(1, 2, 2)\n",
    "sb.violinplot(data=df, x='user_type', y='Age', color=base_color, inner='quartile');\n",
    "plt.title(\"User type V Age after excluding outliers \");\n",
    "plt.ylim(15, 70)"
   ]
  },
  {
   "cell_type": "markdown",
   "id": "bd285b30",
   "metadata": {
    "slideshow": {
     "slide_type": "slide"
    }
   },
   "source": [
    "## Does age affect trip duration ?\n",
    "\n",
    "### Members in age range between 20 and 40 years old take longer time in trips"
   ]
  },
  {
   "cell_type": "code",
   "execution_count": 39,
   "id": "f9529e2c",
   "metadata": {
    "slideshow": {
     "slide_type": "subslide"
    }
   },
   "outputs": [
    {
     "data": {
      "image/png": "[encoded data removed]",
      "text/plain": [
       "<Figure size 432x288 with 1 Axes>"
      ]
     },
     "metadata": {
      "needs_background": "light"
     },
     "output_type": "display_data"
    }
   ],
   "source": [
    "sb.scatterplot(data = df, x = 'Age', y = 'duration_min');\n",
    "plt.xlim(18,100);\n",
    "plt.title(\"Age V duration in minutes\");"
   ]
  },
  {
   "cell_type": "markdown",
   "id": "9777cf60",
   "metadata": {
    "slideshow": {
     "slide_type": "slide"
    }
   },
   "source": [
    "<a id='Mutltivariate'></a>\n",
    "\n",
    "# Multivariate Visualization "
   ]
  },
  {
   "cell_type": "markdown",
   "id": "07a16fee",
   "metadata": {
    "slideshow": {
     "slide_type": "slide"
    }
   },
   "source": [
    "## Does being a customer or subscriber change the relation between age and trip durations ?\n",
    "\n",
    "### No signifcant difference between customers and subscribers of same age in trip duration"
   ]
  },
  {
   "cell_type": "code",
   "execution_count": 40,
   "id": "624dedfc",
   "metadata": {
    "slideshow": {
     "slide_type": "subslide"
    }
   },
   "outputs": [
    {
     "data": {
      "image/png": "[encoded data removed]",
      "text/plain": [
       "<Figure size 432x288 with 1 Axes>"
      ]
     },
     "metadata": {
      "needs_background": "light"
     },
     "output_type": "display_data"
    }
   ],
   "source": [
    "sb.scatterplot(data = df, x = 'Age', y = 'duration_min',hue = 'user_type');\n",
    "plt.xlim(18, 100);\n",
    "plt.title(\"Age V duration in minutes among both customers and subscribers\");"
   ]
  },
  {
   "cell_type": "markdown",
   "id": "0ca09bb9",
   "metadata": {
    "slideshow": {
     "slide_type": "slide"
    }
   },
   "source": [
    "## What is the relation between start hours of the trip, duration among customers and subscribers ?\n",
    "\n",
    "### Customers take longer trip durations than suscribers with the peak between 1 and 4 am"
   ]
  },
  {
   "cell_type": "code",
   "execution_count": 41,
   "id": "69685f25",
   "metadata": {
    "slideshow": {
     "slide_type": "subslide"
    }
   },
   "outputs": [
    {
     "data": {
      "image/png": "[encoded data removed]",
      "text/plain": [
       "<Figure size 1440x360 with 1 Axes>"
      ]
     },
     "metadata": {
      "needs_background": "light"
     },
     "output_type": "display_data"
    }
   ],
   "source": [
    "plt.figure(figsize = [20,5]);\n",
    "sb.lineplot(data = df, x = 'st_hours', y = 'duration_min', hue = 'user_type');\n",
    "plt.title(\"start hours V duration in minutes among both customers and subscribers\");"
   ]
  },
  {
   "cell_type": "markdown",
   "id": "1e667102",
   "metadata": {
    "slideshow": {
     "slide_type": "slide"
    }
   },
   "source": [
    "## What is the relation between start hours of the trip, duration among differenet genders?\n",
    "\n",
    "### people of other genders take longer trip duration than females while males are the least"
   ]
  },
  {
   "cell_type": "code",
   "execution_count": 42,
   "id": "f5feb6fc",
   "metadata": {
    "slideshow": {
     "slide_type": "subslide"
    }
   },
   "outputs": [
    {
     "data": {
      "image/png": "[encoded data removed]",
      "text/plain": [
       "<Figure size 1440x360 with 1 Axes>"
      ]
     },
     "metadata": {
      "needs_background": "light"
     },
     "output_type": "display_data"
    }
   ],
   "source": [
    "plt.figure(figsize = [20,5]);\n",
    "sb.lineplot(data = df, x = 'st_hours', y = 'duration_min', hue = 'member_gender');\n",
    "plt.title(\"start hours V duration in minutes among differenet genders\");"
   ]
  },
  {
   "cell_type": "code",
   "execution_count": null,
   "id": "da7240f9",
   "metadata": {},
   "outputs": [],
   "source": []
  }
 ],
 "metadata": {
  "celltoolbar": "Slideshow",
  "colab": {
   "name": "project visualization.ipynb",
   "provenance": []
  },
  "kernelspec": {
   "display_name": "Python 3",
   "language": "python",
   "name": "python3"
  },
  "language_info": {
   "codemirror_mode": {
    "name": "ipython",
    "version": 3
   },
   "file_extension": ".py",
   "mimetype": "text/x-python",
   "name": "python",
   "nbconvert_exporter": "python",
   "pygments_lexer": "ipython3",
   "version": "3.8.8"
  }
 },
 "nbformat": 4,
 "nbformat_minor": 5
}
